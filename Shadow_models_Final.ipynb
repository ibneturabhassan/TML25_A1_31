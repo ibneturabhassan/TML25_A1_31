{
  "nbformat": 4,
  "nbformat_minor": 0,
  "metadata": {
    "colab": {
      "provenance": [],
      "gpuType": "T4"
    },
    "kernelspec": {
      "name": "python3",
      "display_name": "Python 3"
    },
    "language_info": {
      "name": "python"
    },
    "accelerator": "GPU"
  },
  "cells": [
    {
      "cell_type": "code",
      "source": [
        "from google.colab import drive\n",
        "drive.mount('/content/drive')"
      ],
      "metadata": {
        "colab": {
          "base_uri": "https://localhost:8080/"
        },
        "id": "JayHGp8upLhH",
        "outputId": "9ae1a1f5-358f-4a07-a344-811f7893837b"
      },
      "execution_count": 1,
      "outputs": [
        {
          "output_type": "stream",
          "name": "stdout",
          "text": [
            "Mounted at /content/drive\n"
          ]
        }
      ]
    },
    {
      "cell_type": "code",
      "source": [
        "import torch\n",
        "import torch.nn as nn\n",
        "import torch.nn.functional as F\n",
        "from torch.utils.data import Dataset, DataLoader, random_split, Subset\n",
        "from torchvision.models import resnet18\n",
        "import torchvision.transforms as transforms\n",
        "import numpy as np\n",
        "from sklearn.linear_model import LogisticRegression\n",
        "from sklearn.metrics import accuracy_score\n",
        "import pandas as pd\n",
        "import requests\n",
        "import random\n",
        "from typing import Tuple\n",
        "from sklearn.metrics import roc_auc_score\n",
        "import wandb\n",
        "from tqdm import tqdm\n",
        "from torch.optim import Adam, AdamW"
      ],
      "metadata": {
        "id": "jyKpZnbdUBjv"
      },
      "execution_count": 2,
      "outputs": []
    },
    {
      "cell_type": "code",
      "execution_count": 3,
      "metadata": {
        "colab": {
          "base_uri": "https://localhost:8080/"
        },
        "id": "a6Y-nqSzJR6h",
        "outputId": "6e657ae8-aeb7-4a64-d04e-36ca830b8a05"
      },
      "outputs": [
        {
          "output_type": "stream",
          "name": "stdout",
          "text": [
            "Archive:  /content/drive/MyDrive/Data_model.zip\n",
            "   creating: Data_model/\n",
            "  inflating: Data_model/01_MIA.pt    \n",
            "  inflating: Data_model/priv_out.pt  \n",
            "  inflating: Data_model/pub.pt       \n"
          ]
        }
      ],
      "source": [
        "!unzip  /content/drive/MyDrive/Data_model.zip"
      ]
    },
    {
      "cell_type": "code",
      "source": [
        "!git clone https://github.com/yonsei-sslab/MIA.git\n"
      ],
      "metadata": {
        "colab": {
          "base_uri": "https://localhost:8080/"
        },
        "id": "threkZ302NCU",
        "outputId": "ad91994e-fb4d-4f08-96b6-d99c165a1a5c"
      },
      "execution_count": 4,
      "outputs": [
        {
          "output_type": "stream",
          "name": "stdout",
          "text": [
            "Cloning into 'MIA'...\n",
            "remote: Enumerating objects: 213, done.\u001b[K\n",
            "remote: Counting objects: 100% (213/213), done.\u001b[K\n",
            "remote: Compressing objects: 100% (149/149), done.\u001b[K\n",
            "remote: Total 213 (delta 119), reused 151 (delta 58), pack-reused 0 (from 0)\u001b[K\n",
            "Receiving objects: 100% (213/213), 2.46 MiB | 28.92 MiB/s, done.\n",
            "Resolving deltas: 100% (119/119), done.\n"
          ]
        }
      ]
    },
    {
      "cell_type": "code",
      "source": [
        "device = torch.device(\"cuda\" if torch.cuda.is_available() else \"cpu\")"
      ],
      "metadata": {
        "id": "mXapV8R6MzIA"
      },
      "execution_count": 5,
      "outputs": []
    },
    {
      "cell_type": "code",
      "source": [
        "class TaskDataset(Dataset):\n",
        "    def __init__(self, transform=None):\n",
        "\n",
        "        self.ids = []\n",
        "        self.imgs = []\n",
        "        self.labels = []\n",
        "\n",
        "        self.transform = transform\n",
        "\n",
        "    def __getitem__(self, index) -> Tuple[int, torch.Tensor, int]:\n",
        "        id_ = self.ids[index]\n",
        "        img = self.imgs[index]\n",
        "        if not self.transform is None:\n",
        "            img = self.transform(img)\n",
        "        label = self.labels[index]\n",
        "        return id_, img, label\n",
        "\n",
        "    def __len__(self):\n",
        "        return len(self.ids)"
      ],
      "metadata": {
        "id": "iAeZCSdJM1BC"
      },
      "execution_count": 6,
      "outputs": []
    },
    {
      "cell_type": "code",
      "source": [
        "class MembershipDataset(TaskDataset):\n",
        "    def __init__(self, transform=None):\n",
        "        super().__init__(transform)\n",
        "        self.membership = []\n",
        "\n",
        "    def __getitem__(self, index) -> Tuple[int, torch.Tensor, int, int]:\n",
        "        id_, img, label = super().__getitem__(index)\n",
        "        return id_, img, label, self.membership[index]"
      ],
      "metadata": {
        "id": "cD5xxsH-M4de"
      },
      "execution_count": 7,
      "outputs": []
    },
    {
      "cell_type": "code",
      "source": [
        "mean = [0.2980, 0.2962, 0.2987]\n",
        "std = [0.2886, 0.2875, 0.2889]\n",
        "\n",
        "transform = transforms.Compose([\n",
        "    transforms.Normalize(mean=mean, std=std),\n",
        "])\n",
        "data: MembershipDataset = torch.load(\"/content/Data_model/pub.pt\", weights_only=False)\n",
        "data.transform = transform"
      ],
      "metadata": {
        "id": "XHE3bnbYRjdx"
      },
      "execution_count": 9,
      "outputs": []
    },
    {
      "cell_type": "code",
      "source": [
        "loaded = torch.load(\"/content/Data_model/priv_out.pt\", weights_only=False)\n",
        "data_priv = TaskDataset(transform=transform)\n",
        "data_priv.ids = loaded.ids\n",
        "data_priv.imgs = loaded.imgs\n",
        "data_priv.labels = loaded.labels"
      ],
      "metadata": {
        "id": "DfAshAgYR0hj"
      },
      "execution_count": 10,
      "outputs": []
    },
    {
      "cell_type": "code",
      "source": [
        "loaded = torch.load(\"/content/Data_model/pub.pt\", weights_only=False)\n",
        "data_pub = TaskDataset(transform=transform)\n",
        "data_pub.ids = loaded.ids\n",
        "data_pub.imgs = loaded.imgs\n",
        "data_pub.labels = loaded.labels"
      ],
      "metadata": {
        "id": "gTTHvr_aFyv1"
      },
      "execution_count": 16,
      "outputs": []
    },
    {
      "cell_type": "markdown",
      "source": [
        "Generate train, eval, and test dataloaders for each shadow model using varying train sizes sampled from the public dataset."
      ],
      "metadata": {
        "id": "XS6g6qKVOlKP"
      }
    },
    {
      "cell_type": "code",
      "source": [
        "num_total = 20000\n",
        "num_shadow_models = 30\n",
        "shadow_eval_size = 500\n",
        "shadow_test_size = 1000\n",
        "\n",
        "# Example: Try different sizes (e.g. linearly increasing)\n",
        "train_sizes = np.linspace(300, 3000, num_shadow_models).astype(int)\n",
        "\n",
        "list_train_loader = []\n",
        "list_eval_loader = []\n",
        "list_test_loader = []\n",
        "\n",
        "for i in range(num_shadow_models):\n",
        "    shadow_train_size = train_sizes[i]\n",
        "\n",
        "    # Sample indices without replacement\n",
        "    available_indices = np.arange(len(data_pub))\n",
        "    train_indices = np.random.choice(available_indices, shadow_train_size, replace=False)\n",
        "    remaining_indices = np.setdiff1d(available_indices, train_indices)\n",
        "\n",
        "    eval_indices = np.random.choice(remaining_indices, shadow_eval_size, replace=False)\n",
        "    remaining_indices = np.setdiff1d(remaining_indices, eval_indices)\n",
        "\n",
        "    test_indices = np.random.choice(remaining_indices, shadow_train_size, replace=False)\n",
        "\n",
        "    # Create subsets and loaders\n",
        "    subset_train = Subset(data_pub, train_indices)\n",
        "    subset_eval = Subset(data_pub, eval_indices)\n",
        "    subset_test = Subset(data_pub, test_indices)\n",
        "\n",
        "    subset_train_loader = DataLoader(subset_train, batch_size=64, shuffle=True, num_workers=2)\n",
        "    subset_eval_loader = DataLoader(subset_eval, batch_size=64, shuffle=False, num_workers=2)\n",
        "    subset_test_loader = DataLoader(subset_test, batch_size=64, shuffle=False, num_workers=2)\n",
        "\n",
        "    list_train_loader.append(subset_train_loader)\n",
        "    list_eval_loader.append(subset_eval_loader)\n",
        "    list_test_loader.append(subset_test_loader)\n",
        "\n",
        "    print(f\"Shadow model {i+1}: Train size = {shadow_train_size}\")\n"
      ],
      "metadata": {
        "id": "-5YGpRY3TaFd",
        "colab": {
          "base_uri": "https://localhost:8080/"
        },
        "outputId": "c9847112-4f1e-482f-fb48-be4017f5e01d"
      },
      "execution_count": 17,
      "outputs": [
        {
          "output_type": "stream",
          "name": "stdout",
          "text": [
            "Shadow model 1: Train size = 300\n",
            "Shadow model 2: Train size = 393\n",
            "Shadow model 3: Train size = 486\n",
            "Shadow model 4: Train size = 579\n",
            "Shadow model 5: Train size = 672\n",
            "Shadow model 6: Train size = 765\n",
            "Shadow model 7: Train size = 858\n",
            "Shadow model 8: Train size = 951\n",
            "Shadow model 9: Train size = 1044\n",
            "Shadow model 10: Train size = 1137\n",
            "Shadow model 11: Train size = 1231\n",
            "Shadow model 12: Train size = 1324\n",
            "Shadow model 13: Train size = 1417\n",
            "Shadow model 14: Train size = 1510\n",
            "Shadow model 15: Train size = 1603\n",
            "Shadow model 16: Train size = 1696\n",
            "Shadow model 17: Train size = 1789\n",
            "Shadow model 18: Train size = 1882\n",
            "Shadow model 19: Train size = 1975\n",
            "Shadow model 20: Train size = 2068\n",
            "Shadow model 21: Train size = 2162\n",
            "Shadow model 22: Train size = 2255\n",
            "Shadow model 23: Train size = 2348\n",
            "Shadow model 24: Train size = 2441\n",
            "Shadow model 25: Train size = 2534\n",
            "Shadow model 26: Train size = 2627\n",
            "Shadow model 27: Train size = 2720\n",
            "Shadow model 28: Train size = 2813\n",
            "Shadow model 29: Train size = 2906\n",
            "Shadow model 30: Train size = 3000\n"
          ]
        }
      ]
    },
    {
      "cell_type": "code",
      "source": [
        "def get_model():\n",
        "    model = resnet18(pretrained=False)\n",
        "    model.fc = nn.Linear(512, 44)\n",
        "    return model.to(device)"
      ],
      "metadata": {
        "id": "3SXi1Tw0xl6F"
      },
      "execution_count": 18,
      "outputs": []
    },
    {
      "cell_type": "code",
      "source": [
        "from shadow.trainer import train\n",
        "from utils.seed import seed_everything\n",
        "from utils.load_config import load_config\n",
        "from shadow.make_data import make_member_nonmember\n",
        "import os"
      ],
      "metadata": {
        "id": "LLzc_tgN69_O"
      },
      "execution_count": 19,
      "outputs": []
    },
    {
      "cell_type": "code",
      "source": [
        "CFG = load_config(\"CFG\")"
      ],
      "metadata": {
        "id": "ef6mlwh97tZj"
      },
      "execution_count": 20,
      "outputs": []
    },
    {
      "cell_type": "code",
      "source": [
        "# conduct training\n",
        "if not os.path.exists(CFG.save_path):\n",
        "    os.makedirs(CFG.save_path)\n",
        "\n",
        "# seed for future replication\n",
        "seed_everything(CFG.seed)"
      ],
      "metadata": {
        "id": "E1IALt78BdVf"
      },
      "execution_count": 21,
      "outputs": []
    },
    {
      "cell_type": "code",
      "source": [
        "!wandb login --relogin"
      ],
      "metadata": {
        "colab": {
          "base_uri": "https://localhost:8080/"
        },
        "id": "0GGaQof0D239",
        "outputId": "5729bf31-3c0f-436a-e1be-c87db03ab720"
      },
      "execution_count": 22,
      "outputs": [
        {
          "output_type": "stream",
          "name": "stdout",
          "text": [
            "\u001b[34m\u001b[1mwandb\u001b[0m: \u001b[33mWARNING\u001b[0m Using legacy-service, which is deprecated. If this is unintentional, you can fix it by ensuring you do not call `wandb.require('legacy-service')` and do not set the WANDB_X_REQUIRE_LEGACY_SERVICE environment variable.\n",
            "\u001b[34m\u001b[1mwandb\u001b[0m: Logging into wandb.ai. (Learn how to deploy a W&B server locally: https://wandb.me/wandb-server)\n",
            "\u001b[34m\u001b[1mwandb\u001b[0m: You can find your API key in your browser here: https://wandb.ai/authorize?ref=models\n",
            "\u001b[34m\u001b[1mwandb\u001b[0m: Paste an API key from your profile and hit enter, or press ctrl+c to quit: \n",
            "Aborted!\n"
          ]
        }
      ]
    },
    {
      "cell_type": "code",
      "source": [
        "import shadow.trainer\n",
        "import shadow.make_data\n",
        "import importlib\n",
        "importlib.reload(shadow.make_data)"
      ],
      "metadata": {
        "colab": {
          "base_uri": "https://localhost:8080/"
        },
        "id": "RUanKJrdGdcM",
        "outputId": "5de71dec-4977-4592-8645-35a5ef91e831"
      },
      "execution_count": 23,
      "outputs": [
        {
          "output_type": "execute_result",
          "data": {
            "text/plain": [
              "<module 'shadow.make_data' from '/content/MIA/shadow/make_data.py'>"
            ]
          },
          "metadata": {},
          "execution_count": 23
        }
      ]
    },
    {
      "cell_type": "code",
      "source": [
        "from shadow.make_data import make_member_nonmember"
      ],
      "metadata": {
        "id": "5wiYn9nKMOoi"
      },
      "execution_count": 24,
      "outputs": []
    },
    {
      "cell_type": "code",
      "source": [
        "if not os.path.exists('./attack'):\n",
        "    os.makedirs('./attack')"
      ],
      "metadata": {
        "id": "c5SFpV_LP4R-"
      },
      "execution_count": 25,
      "outputs": []
    },
    {
      "cell_type": "code",
      "source": [
        "from collections import Counter"
      ],
      "metadata": {
        "id": "RVCmkcNyrTrP"
      },
      "execution_count": 26,
      "outputs": []
    },
    {
      "cell_type": "markdown",
      "source": [
        "Generate attack dataset from shadow models by extracting features for member and non-member samples.\n",
        "\n"
      ],
      "metadata": {
        "id": "b3kgV6k3Os6h"
      }
    },
    {
      "cell_type": "code",
      "source": [
        "print(\"Label distribution:\", Counter(data_pub.labels))\n",
        "columns_attack_sdet = [f\"all_{index}_prob\" for index in range(44)] + [\n",
        "    \"loss\", \"margin\", \"entropy\", \"true_label\"\n",
        "]\n",
        "df_attack_dset = pd.DataFrame({}, columns=columns_attack_sdet + [\"is_member\"])\n",
        "print(df_attack_dset.head())\n",
        "\n",
        "for shadow_number, shadow_loader in enumerate(tqdm(list_train_loader)):\n",
        "    evalloader = list_eval_loader[shadow_number]\n",
        "    testloader = list_test_loader[shadow_number]\n",
        "\n",
        "    shadow_model = get_model()\n",
        "    shadow_model = shadow_model.to(device)\n",
        "    criterion = nn.CrossEntropyLoss()\n",
        "\n",
        "    run_name = f\"{shadow_model.__class__.__name__}_shadow_{shadow_number}\"\n",
        "\n",
        "    wandb.init(\n",
        "        project=\"membership_inference_attack\",\n",
        "        group=f\"{shadow_model.__class__.__name__}_shadow\",\n",
        "        name=run_name,\n",
        "    )\n",
        "\n",
        "    optimizer = AdamW(\n",
        "        shadow_model.parameters(), lr=CFG.learning_rate, weight_decay=CFG.weight_decay\n",
        "    )\n",
        "\n",
        "    finetuned_model = train(\n",
        "        CFG,\n",
        "        shadow_model,\n",
        "        shadow_loader,\n",
        "        evalloader,\n",
        "        optimizer,\n",
        "        CFG.save_path,\n",
        "        shadow_number,\n",
        "        scheduler=None,\n",
        "        criterion=criterion,\n",
        "        device=device,\n",
        "    )\n",
        "\n",
        "\n",
        "    member_dset, non_member_dset = make_member_nonmember(\n",
        "        finetuned_model, shadow_loader, testloader, criterion, device\n",
        "    )\n",
        "\n",
        "    df_member = pd.DataFrame(member_dset, columns=columns_attack_sdet)\n",
        "    df_member[\"is_member\"] = 1\n",
        "    df_non_member = pd.DataFrame(non_member_dset, columns=columns_attack_sdet)\n",
        "    df_non_member[\"is_member\"] = 0\n",
        "\n",
        "    df_attack_dset = pd.concat([df_attack_dset, df_member, df_non_member])\n",
        "    df_attack_dset.to_csv(\n",
        "        f\"./attack/{shadow_model.__class__.__name__}_pretrained_{CFG.bool_pretrained}_num_shadow_{20}_CIFAR{44}.csv\",\n",
        "        index=False,\n",
        "    )\n",
        "    print(\"Attack models INPUT SIZE!!!! df_attack_dset:\", df_attack_dset.shape)\n",
        "    # Prevent OOM error by deleting finetuned model and datasets\n",
        "    shadow_model.cpu()\n",
        "    del shadow_model, optimizer, shadow_loader, evalloader, testloader\n",
        "    torch.cuda.empty_cache()\n",
        "    wandb.finish()"
      ],
      "metadata": {
        "colab": {
          "base_uri": "https://localhost:8080/",
          "height": 584
        },
        "id": "QZ4v8BaG6-lN",
        "outputId": "43c76d84-a96d-4ad6-fa2d-9fce5b275dc1"
      },
      "execution_count": 27,
      "outputs": [
        {
          "output_type": "stream",
          "name": "stdout",
          "text": [
            "Label distribution: Counter({17: 3281, 41: 2817, 21: 2324, 36: 1984, 12: 951, 37: 776, 11: 737, 25: 681, 29: 635, 15: 634, 31: 613, 5: 553, 6: 483, 27: 467, 22: 454, 40: 450, 20: 448, 10: 301, 7: 211, 19: 130, 18: 121, 38: 120, 33: 97, 4: 87, 9: 55, 8: 53, 28: 51, 13: 46, 43: 45, 14: 40, 39: 39, 32: 35, 26: 34, 3: 33, 42: 33, 1: 31, 34: 28, 24: 28, 23: 27, 0: 26, 2: 21, 30: 9, 16: 7, 35: 4})\n",
            "Empty DataFrame\n",
            "Columns: [all_0_prob, all_1_prob, all_2_prob, all_3_prob, all_4_prob, all_5_prob, all_6_prob, all_7_prob, all_8_prob, all_9_prob, all_10_prob, all_11_prob, all_12_prob, all_13_prob, all_14_prob, all_15_prob, all_16_prob, all_17_prob, all_18_prob, all_19_prob, all_20_prob, all_21_prob, all_22_prob, all_23_prob, all_24_prob, all_25_prob, all_26_prob, all_27_prob, all_28_prob, all_29_prob, all_30_prob, all_31_prob, all_32_prob, all_33_prob, all_34_prob, all_35_prob, all_36_prob, all_37_prob, all_38_prob, all_39_prob, all_40_prob, all_41_prob, all_42_prob, all_43_prob, loss, margin, entropy, true_label, is_member]\n",
            "Index: []\n",
            "\n",
            "[0 rows x 49 columns]\n"
          ]
        },
        {
          "output_type": "stream",
          "name": "stderr",
          "text": [
            "\r  0%|          | 0/30 [00:00<?, ?it/s]/usr/local/lib/python3.11/dist-packages/torchvision/models/_utils.py:208: UserWarning: The parameter 'pretrained' is deprecated since 0.13 and may be removed in the future, please use 'weights' instead.\n",
            "  warnings.warn(\n",
            "/usr/local/lib/python3.11/dist-packages/torchvision/models/_utils.py:223: UserWarning: Arguments other than a weight enum or `None` for 'weights' are deprecated since 0.13 and may be removed in the future. The current behavior is equivalent to passing `weights=None`.\n",
            "  warnings.warn(msg)\n"
          ]
        },
        {
          "output_type": "display_data",
          "data": {
            "text/plain": [
              "<IPython.core.display.Javascript object>"
            ],
            "application/javascript": [
              "\n",
              "        window._wandbApiKey = new Promise((resolve, reject) => {\n",
              "            function loadScript(url) {\n",
              "            return new Promise(function(resolve, reject) {\n",
              "                let newScript = document.createElement(\"script\");\n",
              "                newScript.onerror = reject;\n",
              "                newScript.onload = resolve;\n",
              "                document.body.appendChild(newScript);\n",
              "                newScript.src = url;\n",
              "            });\n",
              "            }\n",
              "            loadScript(\"https://cdn.jsdelivr.net/npm/postmate/build/postmate.min.js\").then(() => {\n",
              "            const iframe = document.createElement('iframe')\n",
              "            iframe.style.cssText = \"width:0;height:0;border:none\"\n",
              "            document.body.appendChild(iframe)\n",
              "            const handshake = new Postmate({\n",
              "                container: iframe,\n",
              "                url: 'https://wandb.ai/authorize'\n",
              "            });\n",
              "            const timeout = setTimeout(() => reject(\"Couldn't auto authenticate\"), 5000)\n",
              "            handshake.then(function(child) {\n",
              "                child.on('authorize', data => {\n",
              "                    clearTimeout(timeout)\n",
              "                    resolve(data)\n",
              "                });\n",
              "            });\n",
              "            })\n",
              "        });\n",
              "    "
            ]
          },
          "metadata": {}
        },
        {
          "output_type": "stream",
          "name": "stderr",
          "text": [
            "\r  0%|          | 0/30 [00:05<?, ?it/s]\n"
          ]
        },
        {
          "output_type": "error",
          "ename": "KeyboardInterrupt",
          "evalue": "",
          "traceback": [
            "\u001b[0;31m---------------------------------------------------------------------------\u001b[0m",
            "\u001b[0;31mKeyboardInterrupt\u001b[0m                         Traceback (most recent call last)",
            "\u001b[0;32m<ipython-input-27-4e74ab9fc195>\u001b[0m in \u001b[0;36m<cell line: 0>\u001b[0;34m()\u001b[0m\n\u001b[1;32m     16\u001b[0m     \u001b[0mrun_name\u001b[0m \u001b[0;34m=\u001b[0m \u001b[0;34mf\"{shadow_model.__class__.__name__}_shadow_{shadow_number}\"\u001b[0m\u001b[0;34m\u001b[0m\u001b[0;34m\u001b[0m\u001b[0m\n\u001b[1;32m     17\u001b[0m \u001b[0;34m\u001b[0m\u001b[0m\n\u001b[0;32m---> 18\u001b[0;31m     wandb.init(\n\u001b[0m\u001b[1;32m     19\u001b[0m         \u001b[0mproject\u001b[0m\u001b[0;34m=\u001b[0m\u001b[0;34m\"membership_inference_attack\"\u001b[0m\u001b[0;34m,\u001b[0m\u001b[0;34m\u001b[0m\u001b[0;34m\u001b[0m\u001b[0m\n\u001b[1;32m     20\u001b[0m         \u001b[0mgroup\u001b[0m\u001b[0;34m=\u001b[0m\u001b[0;34mf\"{shadow_model.__class__.__name__}_shadow\"\u001b[0m\u001b[0;34m,\u001b[0m\u001b[0;34m\u001b[0m\u001b[0;34m\u001b[0m\u001b[0m\n",
            "\u001b[0;32m/usr/local/lib/python3.11/dist-packages/wandb/sdk/wandb_init.py\u001b[0m in \u001b[0;36minit\u001b[0;34m(entity, project, dir, id, name, notes, tags, config, config_exclude_keys, config_include_keys, allow_val_change, group, job_type, mode, force, anonymous, reinit, resume, resume_from, fork_from, save_code, tensorboard, sync_tensorboard, monitor_gym, settings)\u001b[0m\n\u001b[1;32m   1621\u001b[0m         \u001b[0mwi\u001b[0m \u001b[0;34m=\u001b[0m \u001b[0m_WandbInit\u001b[0m\u001b[0;34m(\u001b[0m\u001b[0mwl\u001b[0m\u001b[0;34m,\u001b[0m \u001b[0minit_telemetry\u001b[0m\u001b[0;34m)\u001b[0m\u001b[0;34m\u001b[0m\u001b[0;34m\u001b[0m\u001b[0m\n\u001b[1;32m   1622\u001b[0m \u001b[0;34m\u001b[0m\u001b[0m\n\u001b[0;32m-> 1623\u001b[0;31m         \u001b[0mwi\u001b[0m\u001b[0;34m.\u001b[0m\u001b[0mmaybe_login\u001b[0m\u001b[0;34m(\u001b[0m\u001b[0minit_settings\u001b[0m\u001b[0;34m)\u001b[0m\u001b[0;34m\u001b[0m\u001b[0;34m\u001b[0m\u001b[0m\n\u001b[0m\u001b[1;32m   1624\u001b[0m         \u001b[0mrun_settings\u001b[0m\u001b[0;34m,\u001b[0m \u001b[0mshow_warnings\u001b[0m \u001b[0;34m=\u001b[0m \u001b[0mwi\u001b[0m\u001b[0;34m.\u001b[0m\u001b[0mmake_run_settings\u001b[0m\u001b[0;34m(\u001b[0m\u001b[0minit_settings\u001b[0m\u001b[0;34m)\u001b[0m\u001b[0;34m\u001b[0m\u001b[0;34m\u001b[0m\u001b[0m\n\u001b[1;32m   1625\u001b[0m \u001b[0;34m\u001b[0m\u001b[0m\n",
            "\u001b[0;32m/usr/local/lib/python3.11/dist-packages/wandb/sdk/wandb_init.py\u001b[0m in \u001b[0;36mmaybe_login\u001b[0;34m(self, init_settings)\u001b[0m\n\u001b[1;32m    206\u001b[0m             \u001b[0;32mreturn\u001b[0m\u001b[0;34m\u001b[0m\u001b[0;34m\u001b[0m\u001b[0m\n\u001b[1;32m    207\u001b[0m \u001b[0;34m\u001b[0m\u001b[0m\n\u001b[0;32m--> 208\u001b[0;31m         wandb_login._login(\n\u001b[0m\u001b[1;32m    209\u001b[0m             \u001b[0manonymous\u001b[0m\u001b[0;34m=\u001b[0m\u001b[0mrun_settings\u001b[0m\u001b[0;34m.\u001b[0m\u001b[0manonymous\u001b[0m\u001b[0;34m,\u001b[0m\u001b[0;34m\u001b[0m\u001b[0;34m\u001b[0m\u001b[0m\n\u001b[1;32m    210\u001b[0m             \u001b[0mhost\u001b[0m\u001b[0;34m=\u001b[0m\u001b[0mrun_settings\u001b[0m\u001b[0;34m.\u001b[0m\u001b[0mbase_url\u001b[0m\u001b[0;34m,\u001b[0m\u001b[0;34m\u001b[0m\u001b[0;34m\u001b[0m\u001b[0m\n",
            "\u001b[0;32m/usr/local/lib/python3.11/dist-packages/wandb/sdk/wandb_login.py\u001b[0m in \u001b[0;36m_login\u001b[0;34m(anonymous, key, relogin, host, force, timeout, verify, referrer, _silent, _disable_warning)\u001b[0m\n\u001b[1;32m    312\u001b[0m             \u001b[0mkey_is_pre_configured\u001b[0m \u001b[0;34m=\u001b[0m \u001b[0;32mTrue\u001b[0m\u001b[0;34m\u001b[0m\u001b[0;34m\u001b[0m\u001b[0m\n\u001b[1;32m    313\u001b[0m         \u001b[0;32melse\u001b[0m\u001b[0;34m:\u001b[0m\u001b[0;34m\u001b[0m\u001b[0;34m\u001b[0m\u001b[0m\n\u001b[0;32m--> 314\u001b[0;31m             \u001b[0mkey\u001b[0m\u001b[0;34m,\u001b[0m \u001b[0mkey_status\u001b[0m \u001b[0;34m=\u001b[0m \u001b[0mwlogin\u001b[0m\u001b[0;34m.\u001b[0m\u001b[0mprompt_api_key\u001b[0m\u001b[0;34m(\u001b[0m\u001b[0mreferrer\u001b[0m\u001b[0;34m=\u001b[0m\u001b[0mreferrer\u001b[0m\u001b[0;34m)\u001b[0m\u001b[0;34m\u001b[0m\u001b[0;34m\u001b[0m\u001b[0m\n\u001b[0m\u001b[1;32m    315\u001b[0m \u001b[0;34m\u001b[0m\u001b[0m\n\u001b[1;32m    316\u001b[0m     \u001b[0;32mif\u001b[0m \u001b[0mverify\u001b[0m\u001b[0;34m:\u001b[0m\u001b[0;34m\u001b[0m\u001b[0;34m\u001b[0m\u001b[0m\n",
            "\u001b[0;32m/usr/local/lib/python3.11/dist-packages/wandb/sdk/wandb_login.py\u001b[0m in \u001b[0;36mprompt_api_key\u001b[0;34m(self, referrer)\u001b[0m\n\u001b[1;32m    233\u001b[0m     ) -> Tuple[Optional[str], ApiKeyStatus]:\n\u001b[1;32m    234\u001b[0m         \u001b[0;34m\"\"\"Updates the global API key by prompting the user.\"\"\"\u001b[0m\u001b[0;34m\u001b[0m\u001b[0;34m\u001b[0m\u001b[0m\n\u001b[0;32m--> 235\u001b[0;31m         \u001b[0mkey\u001b[0m\u001b[0;34m,\u001b[0m \u001b[0mstatus\u001b[0m \u001b[0;34m=\u001b[0m \u001b[0mself\u001b[0m\u001b[0;34m.\u001b[0m\u001b[0m_prompt_api_key\u001b[0m\u001b[0;34m(\u001b[0m\u001b[0mreferrer\u001b[0m\u001b[0;34m)\u001b[0m\u001b[0;34m\u001b[0m\u001b[0;34m\u001b[0m\u001b[0m\n\u001b[0m\u001b[1;32m    236\u001b[0m         \u001b[0;32mif\u001b[0m \u001b[0mstatus\u001b[0m \u001b[0;34m==\u001b[0m \u001b[0mApiKeyStatus\u001b[0m\u001b[0;34m.\u001b[0m\u001b[0mNOTTY\u001b[0m\u001b[0;34m:\u001b[0m\u001b[0;34m\u001b[0m\u001b[0;34m\u001b[0m\u001b[0m\n\u001b[1;32m    237\u001b[0m             directive = (\n",
            "\u001b[0;32m/usr/local/lib/python3.11/dist-packages/wandb/sdk/wandb_login.py\u001b[0m in \u001b[0;36m_prompt_api_key\u001b[0;34m(self, referrer)\u001b[0m\n\u001b[1;32m    209\u001b[0m         \u001b[0;32mwhile\u001b[0m \u001b[0;32mTrue\u001b[0m\u001b[0;34m:\u001b[0m\u001b[0;34m\u001b[0m\u001b[0;34m\u001b[0m\u001b[0m\n\u001b[1;32m    210\u001b[0m             \u001b[0;32mtry\u001b[0m\u001b[0;34m:\u001b[0m\u001b[0;34m\u001b[0m\u001b[0;34m\u001b[0m\u001b[0m\n\u001b[0;32m--> 211\u001b[0;31m                 key = apikey.prompt_api_key(\n\u001b[0m\u001b[1;32m    212\u001b[0m                     \u001b[0mself\u001b[0m\u001b[0;34m.\u001b[0m\u001b[0m_settings\u001b[0m\u001b[0;34m,\u001b[0m\u001b[0;34m\u001b[0m\u001b[0;34m\u001b[0m\u001b[0m\n\u001b[1;32m    213\u001b[0m                     \u001b[0mapi\u001b[0m\u001b[0;34m=\u001b[0m\u001b[0mapi\u001b[0m\u001b[0;34m,\u001b[0m\u001b[0;34m\u001b[0m\u001b[0;34m\u001b[0m\u001b[0m\n",
            "\u001b[0;32m/usr/local/lib/python3.11/dist-packages/wandb/sdk/lib/apikey.py\u001b[0m in \u001b[0;36mprompt_api_key\u001b[0;34m(settings, api, input_callback, browser_callback, no_offline, no_create, local, referrer)\u001b[0m\n\u001b[1;32m    138\u001b[0m     \u001b[0;32mif\u001b[0m \u001b[0mjupyter\u001b[0m \u001b[0;32mand\u001b[0m \u001b[0;34m\"google.colab\"\u001b[0m \u001b[0;32min\u001b[0m \u001b[0msys\u001b[0m\u001b[0;34m.\u001b[0m\u001b[0mmodules\u001b[0m\u001b[0;34m:\u001b[0m\u001b[0;34m\u001b[0m\u001b[0;34m\u001b[0m\u001b[0m\n\u001b[1;32m    139\u001b[0m         \u001b[0mlog_string\u001b[0m \u001b[0;34m=\u001b[0m \u001b[0mterm\u001b[0m\u001b[0;34m.\u001b[0m\u001b[0mLOG_STRING_NOCOLOR\u001b[0m\u001b[0;34m\u001b[0m\u001b[0;34m\u001b[0m\u001b[0m\n\u001b[0;32m--> 140\u001b[0;31m         \u001b[0mkey\u001b[0m \u001b[0;34m=\u001b[0m \u001b[0mwandb\u001b[0m\u001b[0;34m.\u001b[0m\u001b[0mjupyter\u001b[0m\u001b[0;34m.\u001b[0m\u001b[0mattempt_colab_login\u001b[0m\u001b[0;34m(\u001b[0m\u001b[0mapp_url\u001b[0m\u001b[0;34m)\u001b[0m  \u001b[0;31m# type: ignore\u001b[0m\u001b[0;34m\u001b[0m\u001b[0;34m\u001b[0m\u001b[0m\n\u001b[0m\u001b[1;32m    141\u001b[0m         \u001b[0;32mif\u001b[0m \u001b[0mkey\u001b[0m \u001b[0;32mis\u001b[0m \u001b[0;32mnot\u001b[0m \u001b[0;32mNone\u001b[0m\u001b[0;34m:\u001b[0m\u001b[0;34m\u001b[0m\u001b[0;34m\u001b[0m\u001b[0m\n\u001b[1;32m    142\u001b[0m             \u001b[0;32mreturn\u001b[0m \u001b[0mkey\u001b[0m  \u001b[0;31m# type: ignore\u001b[0m\u001b[0;34m\u001b[0m\u001b[0;34m\u001b[0m\u001b[0m\n",
            "\u001b[0;32m/usr/local/lib/python3.11/dist-packages/wandb/jupyter.py\u001b[0m in \u001b[0;36mattempt_colab_login\u001b[0;34m(app_url, referrer)\u001b[0m\n\u001b[1;32m    349\u001b[0m     )\n\u001b[1;32m    350\u001b[0m     \u001b[0;32mtry\u001b[0m\u001b[0;34m:\u001b[0m\u001b[0;34m\u001b[0m\u001b[0;34m\u001b[0m\u001b[0m\n\u001b[0;32m--> 351\u001b[0;31m         \u001b[0;32mreturn\u001b[0m \u001b[0moutput\u001b[0m\u001b[0;34m.\u001b[0m\u001b[0meval_js\u001b[0m\u001b[0;34m(\u001b[0m\u001b[0;34m\"_wandbApiKey\"\u001b[0m\u001b[0;34m)\u001b[0m\u001b[0;34m\u001b[0m\u001b[0;34m\u001b[0m\u001b[0m\n\u001b[0m\u001b[1;32m    352\u001b[0m     \u001b[0;32mexcept\u001b[0m \u001b[0mMessageError\u001b[0m\u001b[0;34m:\u001b[0m\u001b[0;34m\u001b[0m\u001b[0;34m\u001b[0m\u001b[0m\n\u001b[1;32m    353\u001b[0m         \u001b[0;32mreturn\u001b[0m \u001b[0;32mNone\u001b[0m\u001b[0;34m\u001b[0m\u001b[0;34m\u001b[0m\u001b[0m\n",
            "\u001b[0;32m/usr/local/lib/python3.11/dist-packages/google/colab/output/_js.py\u001b[0m in \u001b[0;36meval_js\u001b[0;34m(script, ignore_result, timeout_sec)\u001b[0m\n\u001b[1;32m     38\u001b[0m   \u001b[0;32mif\u001b[0m \u001b[0mignore_result\u001b[0m\u001b[0;34m:\u001b[0m\u001b[0;34m\u001b[0m\u001b[0;34m\u001b[0m\u001b[0m\n\u001b[1;32m     39\u001b[0m     \u001b[0;32mreturn\u001b[0m\u001b[0;34m\u001b[0m\u001b[0;34m\u001b[0m\u001b[0m\n\u001b[0;32m---> 40\u001b[0;31m   \u001b[0;32mreturn\u001b[0m \u001b[0m_message\u001b[0m\u001b[0;34m.\u001b[0m\u001b[0mread_reply_from_input\u001b[0m\u001b[0;34m(\u001b[0m\u001b[0mrequest_id\u001b[0m\u001b[0;34m,\u001b[0m \u001b[0mtimeout_sec\u001b[0m\u001b[0;34m)\u001b[0m\u001b[0;34m\u001b[0m\u001b[0;34m\u001b[0m\u001b[0m\n\u001b[0m\u001b[1;32m     41\u001b[0m \u001b[0;34m\u001b[0m\u001b[0m\n\u001b[1;32m     42\u001b[0m \u001b[0;34m\u001b[0m\u001b[0m\n",
            "\u001b[0;32m/usr/local/lib/python3.11/dist-packages/google/colab/_message.py\u001b[0m in \u001b[0;36mread_reply_from_input\u001b[0;34m(message_id, timeout_sec)\u001b[0m\n\u001b[1;32m     94\u001b[0m     \u001b[0mreply\u001b[0m \u001b[0;34m=\u001b[0m \u001b[0m_read_next_input_message\u001b[0m\u001b[0;34m(\u001b[0m\u001b[0;34m)\u001b[0m\u001b[0;34m\u001b[0m\u001b[0;34m\u001b[0m\u001b[0m\n\u001b[1;32m     95\u001b[0m     \u001b[0;32mif\u001b[0m \u001b[0mreply\u001b[0m \u001b[0;34m==\u001b[0m \u001b[0m_NOT_READY\u001b[0m \u001b[0;32mor\u001b[0m \u001b[0;32mnot\u001b[0m \u001b[0misinstance\u001b[0m\u001b[0;34m(\u001b[0m\u001b[0mreply\u001b[0m\u001b[0;34m,\u001b[0m \u001b[0mdict\u001b[0m\u001b[0;34m)\u001b[0m\u001b[0;34m:\u001b[0m\u001b[0;34m\u001b[0m\u001b[0;34m\u001b[0m\u001b[0m\n\u001b[0;32m---> 96\u001b[0;31m       \u001b[0mtime\u001b[0m\u001b[0;34m.\u001b[0m\u001b[0msleep\u001b[0m\u001b[0;34m(\u001b[0m\u001b[0;36m0.025\u001b[0m\u001b[0;34m)\u001b[0m\u001b[0;34m\u001b[0m\u001b[0;34m\u001b[0m\u001b[0m\n\u001b[0m\u001b[1;32m     97\u001b[0m       \u001b[0;32mcontinue\u001b[0m\u001b[0;34m\u001b[0m\u001b[0;34m\u001b[0m\u001b[0m\n\u001b[1;32m     98\u001b[0m     if (\n",
            "\u001b[0;31mKeyboardInterrupt\u001b[0m: "
          ]
        }
      ]
    },
    {
      "cell_type": "code",
      "source": [
        "!pip install catboost"
      ],
      "metadata": {
        "colab": {
          "base_uri": "https://localhost:8080/"
        },
        "collapsed": true,
        "id": "1aNHHqO9RNZu",
        "outputId": "c2ab45db-eb8d-4e68-b5d8-94077d67b5c0"
      },
      "execution_count": null,
      "outputs": [
        {
          "output_type": "stream",
          "name": "stdout",
          "text": [
            "Collecting catboost\n",
            "  Downloading catboost-1.2.8-cp311-cp311-manylinux2014_x86_64.whl.metadata (1.2 kB)\n",
            "Requirement already satisfied: graphviz in /usr/local/lib/python3.11/dist-packages (from catboost) (0.20.3)\n",
            "Requirement already satisfied: matplotlib in /usr/local/lib/python3.11/dist-packages (from catboost) (3.10.0)\n",
            "Requirement already satisfied: numpy<3.0,>=1.16.0 in /usr/local/lib/python3.11/dist-packages (from catboost) (2.0.2)\n",
            "Requirement already satisfied: pandas>=0.24 in /usr/local/lib/python3.11/dist-packages (from catboost) (2.2.2)\n",
            "Requirement already satisfied: scipy in /usr/local/lib/python3.11/dist-packages (from catboost) (1.15.3)\n",
            "Requirement already satisfied: plotly in /usr/local/lib/python3.11/dist-packages (from catboost) (5.24.1)\n",
            "Requirement already satisfied: six in /usr/local/lib/python3.11/dist-packages (from catboost) (1.17.0)\n",
            "Requirement already satisfied: python-dateutil>=2.8.2 in /usr/local/lib/python3.11/dist-packages (from pandas>=0.24->catboost) (2.9.0.post0)\n",
            "Requirement already satisfied: pytz>=2020.1 in /usr/local/lib/python3.11/dist-packages (from pandas>=0.24->catboost) (2025.2)\n",
            "Requirement already satisfied: tzdata>=2022.7 in /usr/local/lib/python3.11/dist-packages (from pandas>=0.24->catboost) (2025.2)\n",
            "Requirement already satisfied: contourpy>=1.0.1 in /usr/local/lib/python3.11/dist-packages (from matplotlib->catboost) (1.3.2)\n",
            "Requirement already satisfied: cycler>=0.10 in /usr/local/lib/python3.11/dist-packages (from matplotlib->catboost) (0.12.1)\n",
            "Requirement already satisfied: fonttools>=4.22.0 in /usr/local/lib/python3.11/dist-packages (from matplotlib->catboost) (4.58.0)\n",
            "Requirement already satisfied: kiwisolver>=1.3.1 in /usr/local/lib/python3.11/dist-packages (from matplotlib->catboost) (1.4.8)\n",
            "Requirement already satisfied: packaging>=20.0 in /usr/local/lib/python3.11/dist-packages (from matplotlib->catboost) (24.2)\n",
            "Requirement already satisfied: pillow>=8 in /usr/local/lib/python3.11/dist-packages (from matplotlib->catboost) (11.2.1)\n",
            "Requirement already satisfied: pyparsing>=2.3.1 in /usr/local/lib/python3.11/dist-packages (from matplotlib->catboost) (3.2.3)\n",
            "Requirement already satisfied: tenacity>=6.2.0 in /usr/local/lib/python3.11/dist-packages (from plotly->catboost) (9.1.2)\n",
            "Downloading catboost-1.2.8-cp311-cp311-manylinux2014_x86_64.whl (99.2 MB)\n",
            "\u001b[2K   \u001b[90m━━━━━━━━━━━━━━━━━━━━━━━━━━━━━━━━━━━━━━━━\u001b[0m \u001b[32m99.2/99.2 MB\u001b[0m \u001b[31m9.5 MB/s\u001b[0m eta \u001b[36m0:00:00\u001b[0m\n",
            "\u001b[?25hInstalling collected packages: catboost\n",
            "Successfully installed catboost-1.2.8\n"
          ]
        }
      ]
    },
    {
      "cell_type": "code",
      "source": [
        "from matplotlib import pyplot as plt\n",
        "\n",
        "# get metric and train, test support\n",
        "from sklearn.model_selection import train_test_split\n",
        "from sklearn.metrics import precision_recall_fscore_support, roc_curve, auc\n",
        "\n",
        "# get classifier models\n",
        "from sklearn.ensemble import RandomForestClassifier\n",
        "from sklearn.linear_model import RidgeClassifier\n",
        "import xgboost as xgb\n",
        "import lightgbm as lgb\n",
        "from catboost import CatBoostClassifier\n",
        "\n",
        "CFG_ATTACK = load_config(\"CFG_ATTACK\")"
      ],
      "metadata": {
        "id": "D_z-QnfE8kET"
      },
      "execution_count": null,
      "outputs": []
    },
    {
      "cell_type": "code",
      "source": [
        "CFG_ATTACK = load_config(\"CFG_ATTACK\")"
      ],
      "metadata": {
        "id": "OtH-1rLeR-Xr"
      },
      "execution_count": null,
      "outputs": []
    },
    {
      "cell_type": "markdown",
      "source": [
        "Extract full class probability vectors and compute per-sample loss, margin, and entropy for public data samples using the trained target model."
      ],
      "metadata": {
        "id": "KyMYARSdOzfW"
      }
    },
    {
      "cell_type": "code",
      "source": [
        "model = get_model()\n",
        "target_ckpt = torch.load(\"/content/New folder/01_MIA.pt\", map_location=device)\n",
        "model.load_state_dict(target_ckpt)\n",
        "model.to(device).eval()\n",
        "\n",
        "# === 1) Extract Full Probability Vectors on Public Data ===\n",
        "pub_loader = DataLoader(data, batch_size=64, shuffle=False, pin_memory=True)\n",
        "\n",
        "pub_feature_vectors, pub_member = [], []\n",
        "\n",
        "with torch.no_grad():\n",
        "    for ids, imgs, labels, flags in tqdm(pub_loader, desc=\"Extracting pub probabilities\"):\n",
        "        imgs = imgs.to(device)\n",
        "        labels = labels.to(device)\n",
        "        logits = model(imgs)\n",
        "        probs  = F.softmax(logits, dim=1)\n",
        "        # pub_probs.extend(probs.cpu().tolist())\n",
        "        pub_member.extend(flags.tolist())\n",
        "        for j in range(imgs.size(0)):\n",
        "            sample_output = logits[j]\n",
        "            sample_prob = probs[j]\n",
        "            sample_label = labels[j]\n",
        "\n",
        "            # Compute metrics\n",
        "            loss = F.cross_entropy(sample_output.unsqueeze(0), sample_label.unsqueeze(0)).item()\n",
        "            sorted_probs, _ = torch.sort(sample_prob, descending=True)\n",
        "            margin = (sorted_probs[0] - sorted_probs[1]).item()\n",
        "            entropy = -(sample_prob * torch.clamp(sample_prob, min=1e-12).log()).sum().item()\n",
        "\n",
        "            # Feature vector = [class probs] + metrics\n",
        "            feature_vector = list(sample_prob.cpu().numpy()) + [loss, margin, entropy, sample_label.item()]\n",
        "            pub_feature_vectors.append(feature_vector)\n",
        "\n"
      ],
      "metadata": {
        "colab": {
          "base_uri": "https://localhost:8080/"
        },
        "id": "feN70hmU2YrN",
        "outputId": "3edec4ee-5d47-4199-fe48-1718e6c73512"
      },
      "execution_count": null,
      "outputs": [
        {
          "output_type": "stream",
          "name": "stderr",
          "text": [
            "/usr/local/lib/python3.11/dist-packages/torchvision/models/_utils.py:208: UserWarning: The parameter 'pretrained' is deprecated since 0.13 and may be removed in the future, please use 'weights' instead.\n",
            "  warnings.warn(\n",
            "/usr/local/lib/python3.11/dist-packages/torchvision/models/_utils.py:223: UserWarning: Arguments other than a weight enum or `None` for 'weights' are deprecated since 0.13 and may be removed in the future. The current behavior is equivalent to passing `weights=None`.\n",
            "  warnings.warn(msg)\n",
            "Extracting pub probabilities: 100%|██████████| 313/313 [00:10<00:00, 31.04it/s]\n"
          ]
        }
      ]
    },
    {
      "cell_type": "markdown",
      "source": [
        "Train a CatBoost attack model on combined shadow and public features, evaluate its performance, and save results."
      ],
      "metadata": {
        "id": "vBzCaSIfO5Q-"
      }
    },
    {
      "cell_type": "code",
      "source": [
        "df_shadow = pd.read_csv(CFG_ATTACK.attack_dset_path)\n",
        "print(\"Reading attack dataset:\", CFG_ATTACK.attack_dset_path)\n",
        "print(df_shadow.head)\n",
        "print(\"data shape:\", df_shadow.shape)\n",
        "\n",
        "# train attack model\n",
        "y = df_shadow[\"is_member\"]\n",
        "X = df_shadow.drop([\"is_member\"], axis=1)\n",
        "\n",
        "df_pub = pd.DataFrame(pub_feature_vectors, columns=X.columns)\n",
        "\n",
        "# Concatenate X with df_pub\n",
        "X_combined = pd.concat([X, df_pub], ignore_index=True)\n",
        "\n",
        "# Concatenate y with y_pub\n",
        "y_combined = pd.concat([y, pd.Series(pub_member, name=\"is_member\")], ignore_index=True)\n",
        "\n",
        "X_train, X_test, y_train, y_test = train_test_split(\n",
        "    X_combined, y_combined, test_size=CFG_ATTACK.test_size, random_state=CFG.seed\n",
        ")\n",
        "\n",
        "\n",
        "model = CatBoostClassifier(\n",
        "    iterations=CFG_ATTACK.train_epoch,\n",
        "    depth=2,\n",
        "    learning_rate=CFG_ATTACK.learning_rate,\n",
        "    loss_function=\"Logloss\",\n",
        "    verbose=True,\n",
        ")\n",
        "\n",
        "model.fit(X_train, y_train)\n",
        "accuracy = model.score(X_test, y_test)\n",
        "precision, recall, f1_score, _ = precision_recall_fscore_support(\n",
        "    y_test, model.predict(X_test), average=\"binary\"\n",
        ")\n",
        "print(\"accuracy:\", accuracy)\n",
        "print(\"precision:\", precision)\n",
        "print(\"recall:\", recall)\n",
        "print(\"f1_score:\", f1_score)\n",
        "\n",
        "fpr, tpr, thresholds = roc_curve(y_test, model.predict_proba(X_test)[:, 1])\n",
        "print(\"mean fpr:\", np.mean(fpr))\n",
        "print(\"mean tpr:\", np.mean(tpr))\n",
        "\n",
        "tpr_005 = tpr[(fpr >= 0.05).argmax()]\n",
        "print(f\"TPR@FPR=0.05 = {tpr_005:.4f}\")\n",
        "\n",
        "plt.figure(figsize=(8, 8))\n",
        "plt.plot(fpr, tpr, label=\"MIA ROC curve (area = %0.2f)\" % auc(fpr, tpr))\n",
        "plt.plot([0, 1], [0, 1], \"k--\")\n",
        "plt.xlim([0.0, 1.0])\n",
        "plt.ylim([0.0, 1.05])\n",
        "plt.xlabel(\"False Positive Rate\")\n",
        "plt.ylabel(\"True Positive Rate\")\n",
        "plt.title(\"ROC curve\")\n",
        "plt.legend(loc=\"lower right\")\n",
        "plt.show()\n",
        "plt.savefig(CFG_ATTACK.roc_curve_path)\n",
        "\n",
        "\n",
        "save_path = f\"./attack/{model.__class__.__name__}_{accuracy}\"\n",
        "model.save_model(save_path)"
      ],
      "metadata": {
        "colab": {
          "base_uri": "https://localhost:8080/",
          "height": 1000
        },
        "id": "slgtb7r6C4r_",
        "outputId": "c4a36fa1-3e4a-4d33-c403-3d6ae509cc36"
      },
      "execution_count": null,
      "outputs": [
        {
          "output_type": "stream",
          "name": "stdout",
          "text": [
            "Reading attack dataset: ./attack/ResNet_pretrained_False_num_shadow_20_CIFAR44.csv\n",
            "<bound method NDFrame.head of        all_0_prob    all_1_prob    all_2_prob    all_3_prob  all_4_prob  \\\n",
            "0        0.004518  6.965475e-05  3.455520e-05  2.684348e-04    0.004159   \n",
            "1        0.013667  7.221971e-05  3.272722e-05  2.644803e-04    0.006073   \n",
            "2        0.004427  8.756637e-05  1.058977e-04  2.091568e-04    0.009051   \n",
            "3        0.000005  6.853465e-07  2.994431e-07  3.831628e-07    0.000005   \n",
            "4        0.000232  3.172704e-05  2.544559e-05  5.594483e-05    0.000467   \n",
            "...           ...           ...           ...           ...         ...   \n",
            "98967    0.000069  1.156014e-04  7.870839e-06  7.362327e-04    0.000100   \n",
            "98968    0.000055  3.841132e-05  1.269133e-06  1.617404e-05    0.000002   \n",
            "98969    0.000010  2.663476e-05  1.047225e-06  2.521294e-04    0.000035   \n",
            "98970    0.000010  8.659206e-05  7.479552e-07  2.240598e-04    0.000100   \n",
            "98971    0.000315  2.932316e-04  1.417304e-05  6.573848e-04    0.000198   \n",
            "\n",
            "       all_5_prob  all_6_prob  all_7_prob    all_8_prob  all_9_prob  ...  \\\n",
            "0        0.005676    0.001864    0.008360  1.255606e-03    0.002060  ...   \n",
            "1        0.000698    0.001939    0.013287  8.242206e-04    0.001117  ...   \n",
            "2        0.001109    0.003671    0.009094  1.612660e-02    0.011682  ...   \n",
            "3        0.000006    0.000280    0.000002  4.944057e-06    0.000011  ...   \n",
            "4        0.000247    0.054823    0.000100  2.204028e-04    0.000219  ...   \n",
            "...           ...         ...         ...           ...         ...  ...   \n",
            "98967    0.000042    0.057228    0.000027  6.998634e-06    0.000018  ...   \n",
            "98968    0.000002    0.000084    0.000005  1.322059e-06    0.000002  ...   \n",
            "98969    0.000010    0.037117    0.000005  8.674218e-07    0.000004  ...   \n",
            "98970    0.000012    0.075119    0.000007  7.641270e-07    0.000002  ...   \n",
            "98971    0.000076    0.078721    0.000044  1.840359e-05    0.000029  ...   \n",
            "\n",
            "       all_39_prob  all_40_prob  all_41_prob  all_42_prob   all_43_prob  \\\n",
            "0         0.001605     0.014507     0.018115     0.002380  3.764934e-04   \n",
            "1         0.000839     0.003935     0.012079     0.000460  2.768508e-04   \n",
            "2         0.006524     0.012786     0.079089     0.001496  5.304022e-04   \n",
            "3         0.000003     0.000002     0.000030     0.000001  3.365940e-07   \n",
            "4         0.000198     0.000203     0.000413     0.000082  3.050688e-05   \n",
            "...            ...          ...          ...          ...           ...   \n",
            "98967     0.000138     0.000026     0.000284     0.000023  5.151463e-05   \n",
            "98968     0.000027     0.000001     0.620655     0.000019  7.316547e-06   \n",
            "98969     0.000040     0.000005     0.000049     0.000004  1.085546e-05   \n",
            "98970     0.000088     0.000005     0.000118     0.000007  1.782824e-05   \n",
            "98971     0.000543     0.000061     0.001048     0.000037  1.801465e-04   \n",
            "\n",
            "           loss    margin   entropy  true_label  is_member  \n",
            "0      1.332542  0.132712  1.914251        31.0          1  \n",
            "1      1.028591  0.107724  1.510109        29.0          1  \n",
            "2      1.661723  0.034005  2.452300        19.0          1  \n",
            "3      2.878792  0.885350  0.235017        17.0          1  \n",
            "4      2.903647  0.112318  1.058737         6.0          1  \n",
            "...         ...       ...       ...         ...        ...  \n",
            "98967  0.955484  0.054417  1.287365        21.0          0  \n",
            "98968  2.169081  0.476446  1.085844        22.0          0  \n",
            "98969  1.160656  0.208452  1.228697        21.0          0  \n",
            "98970  0.845842  0.110263  1.356971        12.0          0  \n",
            "98971  3.265046  0.662616  1.017572        21.0          0  \n",
            "\n",
            "[98972 rows x 49 columns]>\n",
            "data shape: (98972, 49)\n",
            "0:\tlearn: 0.6773244\ttotal: 66.7ms\tremaining: 13.3s\n",
            "1:\tlearn: 0.6666721\ttotal: 82.2ms\tremaining: 8.14s\n",
            "2:\tlearn: 0.6591324\ttotal: 97.6ms\tremaining: 6.41s\n",
            "3:\tlearn: 0.6545646\ttotal: 114ms\tremaining: 5.6s\n",
            "4:\tlearn: 0.6524043\ttotal: 131ms\tremaining: 5.11s\n",
            "5:\tlearn: 0.6505213\ttotal: 146ms\tremaining: 4.73s\n",
            "6:\tlearn: 0.6492086\ttotal: 161ms\tremaining: 4.44s\n",
            "7:\tlearn: 0.6481649\ttotal: 178ms\tremaining: 4.27s\n",
            "8:\tlearn: 0.6471203\ttotal: 193ms\tremaining: 4.1s\n",
            "9:\tlearn: 0.6461195\ttotal: 209ms\tremaining: 3.98s\n",
            "10:\tlearn: 0.6454785\ttotal: 225ms\tremaining: 3.87s\n",
            "11:\tlearn: 0.6448904\ttotal: 240ms\tremaining: 3.77s\n",
            "12:\tlearn: 0.6444969\ttotal: 256ms\tremaining: 3.68s\n",
            "13:\tlearn: 0.6439623\ttotal: 274ms\tremaining: 3.64s\n",
            "14:\tlearn: 0.6436233\ttotal: 289ms\tremaining: 3.56s\n",
            "15:\tlearn: 0.6432112\ttotal: 304ms\tremaining: 3.5s\n",
            "16:\tlearn: 0.6429543\ttotal: 319ms\tremaining: 3.43s\n",
            "17:\tlearn: 0.6427807\ttotal: 334ms\tremaining: 3.37s\n",
            "18:\tlearn: 0.6425337\ttotal: 351ms\tremaining: 3.34s\n",
            "19:\tlearn: 0.6420422\ttotal: 366ms\tremaining: 3.29s\n",
            "20:\tlearn: 0.6418160\ttotal: 381ms\tremaining: 3.25s\n",
            "21:\tlearn: 0.6416918\ttotal: 397ms\tremaining: 3.21s\n",
            "22:\tlearn: 0.6415251\ttotal: 412ms\tremaining: 3.17s\n",
            "23:\tlearn: 0.6413746\ttotal: 427ms\tremaining: 3.13s\n",
            "24:\tlearn: 0.6409622\ttotal: 444ms\tremaining: 3.1s\n",
            "25:\tlearn: 0.6407863\ttotal: 460ms\tremaining: 3.08s\n",
            "26:\tlearn: 0.6406219\ttotal: 478ms\tremaining: 3.06s\n",
            "27:\tlearn: 0.6405084\ttotal: 493ms\tremaining: 3.03s\n",
            "28:\tlearn: 0.6403901\ttotal: 509ms\tremaining: 3s\n",
            "29:\tlearn: 0.6400082\ttotal: 526ms\tremaining: 2.98s\n",
            "30:\tlearn: 0.6399295\ttotal: 541ms\tremaining: 2.95s\n",
            "31:\tlearn: 0.6396794\ttotal: 557ms\tremaining: 2.92s\n",
            "32:\tlearn: 0.6395440\ttotal: 573ms\tremaining: 2.9s\n",
            "33:\tlearn: 0.6393576\ttotal: 589ms\tremaining: 2.88s\n",
            "34:\tlearn: 0.6391624\ttotal: 603ms\tremaining: 2.84s\n",
            "35:\tlearn: 0.6389537\ttotal: 619ms\tremaining: 2.82s\n",
            "36:\tlearn: 0.6388698\ttotal: 633ms\tremaining: 2.79s\n",
            "37:\tlearn: 0.6386015\ttotal: 650ms\tremaining: 2.77s\n",
            "38:\tlearn: 0.6382519\ttotal: 666ms\tremaining: 2.75s\n",
            "39:\tlearn: 0.6381015\ttotal: 685ms\tremaining: 2.74s\n",
            "40:\tlearn: 0.6380182\ttotal: 699ms\tremaining: 2.71s\n",
            "41:\tlearn: 0.6378336\ttotal: 714ms\tremaining: 2.69s\n",
            "42:\tlearn: 0.6376896\ttotal: 730ms\tremaining: 2.67s\n",
            "43:\tlearn: 0.6376169\ttotal: 744ms\tremaining: 2.64s\n",
            "44:\tlearn: 0.6374599\ttotal: 760ms\tremaining: 2.62s\n",
            "45:\tlearn: 0.6373664\ttotal: 775ms\tremaining: 2.6s\n",
            "46:\tlearn: 0.6372323\ttotal: 790ms\tremaining: 2.57s\n",
            "47:\tlearn: 0.6371609\ttotal: 804ms\tremaining: 2.55s\n",
            "48:\tlearn: 0.6369787\ttotal: 820ms\tremaining: 2.52s\n",
            "49:\tlearn: 0.6368803\ttotal: 834ms\tremaining: 2.5s\n",
            "50:\tlearn: 0.6368111\ttotal: 848ms\tremaining: 2.48s\n",
            "51:\tlearn: 0.6366847\ttotal: 862ms\tremaining: 2.45s\n",
            "52:\tlearn: 0.6365601\ttotal: 882ms\tremaining: 2.44s\n",
            "53:\tlearn: 0.6364620\ttotal: 899ms\tremaining: 2.43s\n",
            "54:\tlearn: 0.6363402\ttotal: 917ms\tremaining: 2.42s\n",
            "55:\tlearn: 0.6360337\ttotal: 932ms\tremaining: 2.4s\n",
            "56:\tlearn: 0.6359468\ttotal: 947ms\tremaining: 2.38s\n",
            "57:\tlearn: 0.6358488\ttotal: 963ms\tremaining: 2.36s\n",
            "58:\tlearn: 0.6357183\ttotal: 986ms\tremaining: 2.36s\n",
            "59:\tlearn: 0.6356215\ttotal: 1.01s\tremaining: 2.36s\n",
            "60:\tlearn: 0.6354745\ttotal: 1.03s\tremaining: 2.34s\n",
            "61:\tlearn: 0.6353587\ttotal: 1.04s\tremaining: 2.32s\n",
            "62:\tlearn: 0.6351937\ttotal: 1.06s\tremaining: 2.3s\n",
            "63:\tlearn: 0.6351435\ttotal: 1.07s\tremaining: 2.28s\n",
            "64:\tlearn: 0.6350481\ttotal: 1.09s\tremaining: 2.26s\n",
            "65:\tlearn: 0.6348920\ttotal: 1.11s\tremaining: 2.25s\n",
            "66:\tlearn: 0.6347041\ttotal: 1.12s\tremaining: 2.23s\n",
            "67:\tlearn: 0.6346336\ttotal: 1.14s\tremaining: 2.21s\n",
            "68:\tlearn: 0.6345403\ttotal: 1.15s\tremaining: 2.19s\n",
            "69:\tlearn: 0.6344643\ttotal: 1.17s\tremaining: 2.17s\n",
            "70:\tlearn: 0.6344133\ttotal: 1.18s\tremaining: 2.15s\n",
            "71:\tlearn: 0.6342916\ttotal: 1.2s\tremaining: 2.13s\n",
            "72:\tlearn: 0.6342176\ttotal: 1.21s\tremaining: 2.11s\n",
            "73:\tlearn: 0.6341556\ttotal: 1.23s\tremaining: 2.09s\n",
            "74:\tlearn: 0.6340830\ttotal: 1.24s\tremaining: 2.07s\n",
            "75:\tlearn: 0.6340307\ttotal: 1.26s\tremaining: 2.05s\n",
            "76:\tlearn: 0.6338859\ttotal: 1.27s\tremaining: 2.03s\n",
            "77:\tlearn: 0.6338131\ttotal: 1.29s\tremaining: 2.01s\n",
            "78:\tlearn: 0.6337096\ttotal: 1.3s\tremaining: 2s\n",
            "79:\tlearn: 0.6336224\ttotal: 1.32s\tremaining: 1.98s\n",
            "80:\tlearn: 0.6335497\ttotal: 1.34s\tremaining: 1.96s\n",
            "81:\tlearn: 0.6334689\ttotal: 1.35s\tremaining: 1.95s\n",
            "82:\tlearn: 0.6334019\ttotal: 1.37s\tremaining: 1.93s\n",
            "83:\tlearn: 0.6333281\ttotal: 1.38s\tremaining: 1.91s\n",
            "84:\tlearn: 0.6332777\ttotal: 1.4s\tremaining: 1.89s\n",
            "85:\tlearn: 0.6331948\ttotal: 1.41s\tremaining: 1.87s\n",
            "86:\tlearn: 0.6331631\ttotal: 1.43s\tremaining: 1.85s\n",
            "87:\tlearn: 0.6330460\ttotal: 1.44s\tremaining: 1.84s\n",
            "88:\tlearn: 0.6329736\ttotal: 1.46s\tremaining: 1.82s\n",
            "89:\tlearn: 0.6328898\ttotal: 1.47s\tremaining: 1.8s\n",
            "90:\tlearn: 0.6328367\ttotal: 1.49s\tremaining: 1.78s\n",
            "91:\tlearn: 0.6328065\ttotal: 1.5s\tremaining: 1.76s\n",
            "92:\tlearn: 0.6327745\ttotal: 1.52s\tremaining: 1.75s\n",
            "93:\tlearn: 0.6327086\ttotal: 1.54s\tremaining: 1.74s\n",
            "94:\tlearn: 0.6326252\ttotal: 1.56s\tremaining: 1.72s\n",
            "95:\tlearn: 0.6325672\ttotal: 1.57s\tremaining: 1.7s\n",
            "96:\tlearn: 0.6324941\ttotal: 1.59s\tremaining: 1.69s\n",
            "97:\tlearn: 0.6324349\ttotal: 1.6s\tremaining: 1.67s\n",
            "98:\tlearn: 0.6323477\ttotal: 1.62s\tremaining: 1.65s\n",
            "99:\tlearn: 0.6322289\ttotal: 1.63s\tremaining: 1.63s\n",
            "100:\tlearn: 0.6322044\ttotal: 1.65s\tremaining: 1.61s\n",
            "101:\tlearn: 0.6321408\ttotal: 1.66s\tremaining: 1.6s\n",
            "102:\tlearn: 0.6320660\ttotal: 1.68s\tremaining: 1.58s\n",
            "103:\tlearn: 0.6320152\ttotal: 1.69s\tremaining: 1.56s\n",
            "104:\tlearn: 0.6319798\ttotal: 1.71s\tremaining: 1.55s\n",
            "105:\tlearn: 0.6319103\ttotal: 1.73s\tremaining: 1.53s\n",
            "106:\tlearn: 0.6318137\ttotal: 1.74s\tremaining: 1.52s\n",
            "107:\tlearn: 0.6317659\ttotal: 1.76s\tremaining: 1.5s\n",
            "108:\tlearn: 0.6316491\ttotal: 1.77s\tremaining: 1.48s\n",
            "109:\tlearn: 0.6315857\ttotal: 1.8s\tremaining: 1.47s\n",
            "110:\tlearn: 0.6315564\ttotal: 1.82s\tremaining: 1.46s\n",
            "111:\tlearn: 0.6315027\ttotal: 1.85s\tremaining: 1.45s\n",
            "112:\tlearn: 0.6314488\ttotal: 1.86s\tremaining: 1.43s\n",
            "113:\tlearn: 0.6313779\ttotal: 1.88s\tremaining: 1.42s\n",
            "114:\tlearn: 0.6312657\ttotal: 1.9s\tremaining: 1.4s\n",
            "115:\tlearn: 0.6311971\ttotal: 1.91s\tremaining: 1.39s\n",
            "116:\tlearn: 0.6310773\ttotal: 1.93s\tremaining: 1.37s\n",
            "117:\tlearn: 0.6310068\ttotal: 1.95s\tremaining: 1.35s\n",
            "118:\tlearn: 0.6309354\ttotal: 1.97s\tremaining: 1.34s\n",
            "119:\tlearn: 0.6308902\ttotal: 1.99s\tremaining: 1.32s\n",
            "120:\tlearn: 0.6308059\ttotal: 2.01s\tremaining: 1.31s\n",
            "121:\tlearn: 0.6307517\ttotal: 2.04s\tremaining: 1.3s\n",
            "122:\tlearn: 0.6306951\ttotal: 2.05s\tremaining: 1.28s\n",
            "123:\tlearn: 0.6305645\ttotal: 2.07s\tremaining: 1.27s\n",
            "124:\tlearn: 0.6305121\ttotal: 2.08s\tremaining: 1.25s\n",
            "125:\tlearn: 0.6304829\ttotal: 2.1s\tremaining: 1.23s\n",
            "126:\tlearn: 0.6302925\ttotal: 2.12s\tremaining: 1.22s\n",
            "127:\tlearn: 0.6302478\ttotal: 2.13s\tremaining: 1.2s\n",
            "128:\tlearn: 0.6302061\ttotal: 2.15s\tremaining: 1.18s\n",
            "129:\tlearn: 0.6301309\ttotal: 2.16s\tremaining: 1.17s\n",
            "130:\tlearn: 0.6300709\ttotal: 2.18s\tremaining: 1.15s\n",
            "131:\tlearn: 0.6299853\ttotal: 2.19s\tremaining: 1.13s\n",
            "132:\tlearn: 0.6299287\ttotal: 2.21s\tremaining: 1.11s\n",
            "133:\tlearn: 0.6298585\ttotal: 2.22s\tremaining: 1.09s\n",
            "134:\tlearn: 0.6297579\ttotal: 2.24s\tremaining: 1.08s\n",
            "135:\tlearn: 0.6296961\ttotal: 2.25s\tremaining: 1.06s\n",
            "136:\tlearn: 0.6295722\ttotal: 2.27s\tremaining: 1.04s\n",
            "137:\tlearn: 0.6295332\ttotal: 2.29s\tremaining: 1.03s\n",
            "138:\tlearn: 0.6294617\ttotal: 2.3s\tremaining: 1.01s\n",
            "139:\tlearn: 0.6294126\ttotal: 2.32s\tremaining: 993ms\n",
            "140:\tlearn: 0.6293619\ttotal: 2.33s\tremaining: 977ms\n",
            "141:\tlearn: 0.6293429\ttotal: 2.35s\tremaining: 961ms\n",
            "142:\tlearn: 0.6293040\ttotal: 2.37s\tremaining: 943ms\n",
            "143:\tlearn: 0.6292484\ttotal: 2.38s\tremaining: 926ms\n",
            "144:\tlearn: 0.6292229\ttotal: 2.4s\tremaining: 908ms\n",
            "145:\tlearn: 0.6291506\ttotal: 2.41s\tremaining: 891ms\n",
            "146:\tlearn: 0.6290263\ttotal: 2.43s\tremaining: 875ms\n",
            "147:\tlearn: 0.6289969\ttotal: 2.44s\tremaining: 858ms\n",
            "148:\tlearn: 0.6289453\ttotal: 2.46s\tremaining: 841ms\n",
            "149:\tlearn: 0.6289223\ttotal: 2.47s\tremaining: 824ms\n",
            "150:\tlearn: 0.6288597\ttotal: 2.49s\tremaining: 808ms\n",
            "151:\tlearn: 0.6287644\ttotal: 2.5s\tremaining: 791ms\n",
            "152:\tlearn: 0.6287125\ttotal: 2.52s\tremaining: 774ms\n",
            "153:\tlearn: 0.6286688\ttotal: 2.54s\tremaining: 758ms\n",
            "154:\tlearn: 0.6286295\ttotal: 2.56s\tremaining: 742ms\n",
            "155:\tlearn: 0.6285688\ttotal: 2.57s\tremaining: 725ms\n",
            "156:\tlearn: 0.6285381\ttotal: 2.58s\tremaining: 708ms\n",
            "157:\tlearn: 0.6284694\ttotal: 2.6s\tremaining: 691ms\n",
            "158:\tlearn: 0.6284216\ttotal: 2.61s\tremaining: 674ms\n",
            "159:\tlearn: 0.6283816\ttotal: 2.63s\tremaining: 657ms\n",
            "160:\tlearn: 0.6283276\ttotal: 2.64s\tremaining: 640ms\n",
            "161:\tlearn: 0.6282789\ttotal: 2.66s\tremaining: 624ms\n",
            "162:\tlearn: 0.6282254\ttotal: 2.67s\tremaining: 607ms\n",
            "163:\tlearn: 0.6281853\ttotal: 2.69s\tremaining: 590ms\n",
            "164:\tlearn: 0.6281415\ttotal: 2.7s\tremaining: 574ms\n",
            "165:\tlearn: 0.6281036\ttotal: 2.72s\tremaining: 557ms\n",
            "166:\tlearn: 0.6280744\ttotal: 2.74s\tremaining: 541ms\n",
            "167:\tlearn: 0.6280256\ttotal: 2.75s\tremaining: 524ms\n",
            "168:\tlearn: 0.6279513\ttotal: 2.77s\tremaining: 508ms\n",
            "169:\tlearn: 0.6278992\ttotal: 2.78s\tremaining: 491ms\n",
            "170:\tlearn: 0.6278633\ttotal: 2.8s\tremaining: 475ms\n",
            "171:\tlearn: 0.6277923\ttotal: 2.82s\tremaining: 459ms\n",
            "172:\tlearn: 0.6277529\ttotal: 2.83s\tremaining: 442ms\n",
            "173:\tlearn: 0.6277160\ttotal: 2.85s\tremaining: 425ms\n",
            "174:\tlearn: 0.6276451\ttotal: 2.86s\tremaining: 409ms\n",
            "175:\tlearn: 0.6275687\ttotal: 2.88s\tremaining: 393ms\n",
            "176:\tlearn: 0.6275040\ttotal: 2.9s\tremaining: 377ms\n",
            "177:\tlearn: 0.6274674\ttotal: 2.91s\tremaining: 360ms\n",
            "178:\tlearn: 0.6274395\ttotal: 2.93s\tremaining: 344ms\n",
            "179:\tlearn: 0.6273560\ttotal: 2.94s\tremaining: 327ms\n",
            "180:\tlearn: 0.6273177\ttotal: 2.96s\tremaining: 311ms\n",
            "181:\tlearn: 0.6272745\ttotal: 2.98s\tremaining: 294ms\n",
            "182:\tlearn: 0.6272372\ttotal: 2.99s\tremaining: 278ms\n",
            "183:\tlearn: 0.6271477\ttotal: 3.01s\tremaining: 261ms\n",
            "184:\tlearn: 0.6271096\ttotal: 3.02s\tremaining: 245ms\n",
            "185:\tlearn: 0.6270559\ttotal: 3.06s\tremaining: 230ms\n",
            "186:\tlearn: 0.6268705\ttotal: 3.08s\tremaining: 214ms\n",
            "187:\tlearn: 0.6268359\ttotal: 3.09s\tremaining: 197ms\n",
            "188:\tlearn: 0.6267961\ttotal: 3.11s\tremaining: 181ms\n",
            "189:\tlearn: 0.6267312\ttotal: 3.12s\tremaining: 164ms\n",
            "190:\tlearn: 0.6266857\ttotal: 3.14s\tremaining: 148ms\n",
            "191:\tlearn: 0.6266565\ttotal: 3.15s\tremaining: 131ms\n",
            "192:\tlearn: 0.6266358\ttotal: 3.17s\tremaining: 115ms\n",
            "193:\tlearn: 0.6266102\ttotal: 3.19s\tremaining: 98.6ms\n",
            "194:\tlearn: 0.6265736\ttotal: 3.2s\tremaining: 82.1ms\n",
            "195:\tlearn: 0.6265329\ttotal: 3.22s\tremaining: 65.7ms\n",
            "196:\tlearn: 0.6264634\ttotal: 3.23s\tremaining: 49.3ms\n",
            "197:\tlearn: 0.6264238\ttotal: 3.25s\tremaining: 32.8ms\n",
            "198:\tlearn: 0.6263908\ttotal: 3.26s\tremaining: 16.4ms\n",
            "199:\tlearn: 0.6263662\ttotal: 3.28s\tremaining: 0us\n",
            "accuracy: 0.6195839462071864\n",
            "precision: 0.5975533030408948\n",
            "recall: 0.721776576880858\n",
            "f1_score: 0.6538167355055836\n",
            "mean fpr: 0.3889583901860606\n",
            "mean tpr: 0.5756012874295642\n",
            "TPR@FPR=0.05 = 0.1559\n"
          ]
        },
        {
          "output_type": "display_data",
          "data": {
            "text/plain": [
              "<Figure size 800x800 with 1 Axes>"
            ],
            "image/png": "[encoded data removed]"
          },
          "metadata": {}
        },
        {
          "output_type": "display_data",
          "data": {
            "text/plain": [
              "<Figure size 640x480 with 0 Axes>"
            ]
          },
          "metadata": {}
        }
      ]
    },
    {
      "cell_type": "markdown",
      "source": [
        "Extracts softmax probabilities, loss, margin, entropy, and true label from the target model for each private data sample to create feature vectors for membership inference."
      ],
      "metadata": {
        "id": "7uFcs-K_PApF"
      }
    },
    {
      "cell_type": "code",
      "source": [
        "target_model = get_model()\n",
        "target_ckpt = torch.load(\"/content/Data_model/01_MIA.pt\", map_location=device)\n",
        "target_model.load_state_dict(target_ckpt)\n",
        "target_model.eval()\n",
        "\n",
        "privateloader = DataLoader(data_priv, batch_size=64, shuffle=False, num_workers=2)\n",
        "\n",
        "# features = []\n",
        "target_feature_vectors = []\n",
        "# finetuned_model.eval()\n",
        "with torch.no_grad():\n",
        "    for i, (ids, images, labels) in enumerate(tqdm(privateloader)):\n",
        "        images = images.to(device)\n",
        "        labels = labels.to(device)\n",
        "\n",
        "        # compute output\n",
        "        output = target_model(images)\n",
        "        prob = F.softmax(output, dim=1)  # softmax logits\n",
        "\n",
        "        for j in range(images.size(0)):\n",
        "            sample_output = output[j]\n",
        "            sample_prob = prob[j]\n",
        "            sample_label = labels[j]\n",
        "\n",
        "            loss = F.cross_entropy(sample_output.unsqueeze(0), sample_label.unsqueeze(0)).item()\n",
        "            sorted_probs, _ = torch.sort(sample_prob, descending=True)\n",
        "            margin = (sorted_probs[0] - sorted_probs[1]).item()\n",
        "            entropy = -(sample_prob * torch.clamp(sample_prob, min=1e-12).log()).sum().item()\n",
        "\n",
        "            # Feature vector: all class probs + loss + margin + entropy + true label\n",
        "            feature_vector = list(sample_prob.cpu().numpy()) + [loss, margin, entropy, sample_label.item()]\n",
        "            target_feature_vectors.append(feature_vector)\n",
        "\n",
        "\n",
        "columns_attack_features = [f\"all_{i}_prob\" for i in range(44)] + [\"loss\", \"margin\", \"entropy\", \"true_label\"]\n",
        "\n",
        "df_target = pd.DataFrame(target_feature_vectors, columns=columns_attack_features)"
      ],
      "metadata": {
        "colab": {
          "base_uri": "https://localhost:8080/"
        },
        "id": "KW9aqxz_VFjL",
        "outputId": "46bac84e-7230-4652-8bac-85993ad84182"
      },
      "execution_count": null,
      "outputs": [
        {
          "output_type": "stream",
          "name": "stderr",
          "text": [
            "/usr/local/lib/python3.11/dist-packages/torchvision/models/_utils.py:208: UserWarning: The parameter 'pretrained' is deprecated since 0.13 and may be removed in the future, please use 'weights' instead.\n",
            "  warnings.warn(\n",
            "/usr/local/lib/python3.11/dist-packages/torchvision/models/_utils.py:223: UserWarning: Arguments other than a weight enum or `None` for 'weights' are deprecated since 0.13 and may be removed in the future. The current behavior is equivalent to passing `weights=None`.\n",
            "  warnings.warn(msg)\n",
            "100%|██████████| 313/313 [00:11<00:00, 26.86it/s]\n"
          ]
        }
      ]
    },
    {
      "cell_type": "code",
      "source": [
        "df_target.head()"
      ],
      "metadata": {
        "colab": {
          "base_uri": "https://localhost:8080/",
          "height": 342
        },
        "id": "ZD3cefQBaCJo",
        "outputId": "256ddb24-93f5-406c-f1b3-16eea78a3b3b"
      },
      "execution_count": null,
      "outputs": [
        {
          "output_type": "execute_result",
          "data": {
            "text/plain": [
              "     all_0_prob    all_1_prob    all_2_prob    all_3_prob    all_4_prob  \\\n",
              "0  3.261113e-21  1.222014e-16  1.285417e-15  1.624586e-21  2.548627e-22   \n",
              "1  9.795522e-22  1.788099e-16  1.219056e-17  1.063301e-22  1.108040e-21   \n",
              "2  6.481055e-10  6.672424e-11  4.942376e-12  2.966136e-12  1.893922e-16   \n",
              "3  2.108354e-36  1.008609e-29  1.880650e-25  4.643068e-34  2.068530e-35   \n",
              "4  1.056981e-09  3.374493e-15  3.715175e-14  5.897871e-14  3.859257e-19   \n",
              "\n",
              "     all_5_prob    all_6_prob    all_7_prob    all_8_prob    all_9_prob  ...  \\\n",
              "0  4.269057e-15  6.993806e-18  8.911915e-23  9.542625e-21  1.365819e-19  ...   \n",
              "1  1.741644e-13  4.011657e-18  4.589963e-23  1.689308e-22  1.273456e-20  ...   \n",
              "2  4.839733e-12  1.044393e-07  5.782660e-14  1.166469e-12  1.592655e-14  ...   \n",
              "3  1.616960e-25  6.000442e-35  5.059211e-33  1.018005e-30  5.387592e-35  ...   \n",
              "4  5.511858e-10  8.877949e-11  1.884362e-13  9.442468e-16  8.045709e-13  ...   \n",
              "\n",
              "    all_38_prob   all_39_prob   all_40_prob   all_41_prob   all_42_prob  \\\n",
              "0  1.675564e-18  5.368840e-20  1.465947e-08  7.424654e-16  7.116951e-21   \n",
              "1  7.153509e-20  3.658574e-22  1.035718e-07  1.749470e-18  5.822015e-22   \n",
              "2  1.496985e-12  1.496483e-11  8.792107e-11  2.497999e-12  1.205682e-12   \n",
              "3  2.049799e-25  3.784844e-31  9.817873e-26  2.168864e-31  1.482684e-27   \n",
              "4  5.580500e-14  5.212443e-14  1.229889e-12  3.494804e-06  2.014655e-16   \n",
              "\n",
              "    all_43_prob          loss    margin       entropy  true_label  \n",
              "0  1.094312e-22  0.000000e+00  1.000000  9.006229e-07          11  \n",
              "1  6.040347e-23  1.192093e-07  1.000000  1.794379e-06          11  \n",
              "2  1.883626e-12  1.350179e+01  0.998658  5.688133e-03          25  \n",
              "3  2.084331e-29  0.000000e+00  1.000000  2.019576e-12          31  \n",
              "4  1.545216e-13  2.069952e-03  0.995868  1.487354e-02          36  \n",
              "\n",
              "[5 rows x 48 columns]"
            ],
            "text/html": [
              "\n",
              "  <div id=\"df-5c951104-ac7c-4b72-afa5-f5b5c46fec9f\" class=\"colab-df-container\">\n",
              "    <div>\n",
              "<style scoped>\n",
              "    .dataframe tbody tr th:only-of-type {\n",
              "        vertical-align: middle;\n",
              "    }\n",
              "\n",
              "    .dataframe tbody tr th {\n",
              "        vertical-align: top;\n",
              "    }\n",
              "\n",
              "    .dataframe thead th {\n",
              "        text-align: right;\n",
              "    }\n",
              "</style>\n",
              "<table border=\"1\" class=\"dataframe\">\n",
              "  <thead>\n",
              "    <tr style=\"text-align: right;\">\n",
              "      <th></th>\n",
              "      <th>all_0_prob</th>\n",
              "      <th>all_1_prob</th>\n",
              "      <th>all_2_prob</th>\n",
              "      <th>all_3_prob</th>\n",
              "      <th>all_4_prob</th>\n",
              "      <th>all_5_prob</th>\n",
              "      <th>all_6_prob</th>\n",
              "      <th>all_7_prob</th>\n",
              "      <th>all_8_prob</th>\n",
              "      <th>all_9_prob</th>\n",
              "      <th>...</th>\n",
              "      <th>all_38_prob</th>\n",
              "      <th>all_39_prob</th>\n",
              "      <th>all_40_prob</th>\n",
              "      <th>all_41_prob</th>\n",
              "      <th>all_42_prob</th>\n",
              "      <th>all_43_prob</th>\n",
              "      <th>loss</th>\n",
              "      <th>margin</th>\n",
              "      <th>entropy</th>\n",
              "      <th>true_label</th>\n",
              "    </tr>\n",
              "  </thead>\n",
              "  <tbody>\n",
              "    <tr>\n",
              "      <th>0</th>\n",
              "      <td>3.261113e-21</td>\n",
              "      <td>1.222014e-16</td>\n",
              "      <td>1.285417e-15</td>\n",
              "      <td>1.624586e-21</td>\n",
              "      <td>2.548627e-22</td>\n",
              "      <td>4.269057e-15</td>\n",
              "      <td>6.993806e-18</td>\n",
              "      <td>8.911915e-23</td>\n",
              "      <td>9.542625e-21</td>\n",
              "      <td>1.365819e-19</td>\n",
              "      <td>...</td>\n",
              "      <td>1.675564e-18</td>\n",
              "      <td>5.368840e-20</td>\n",
              "      <td>1.465947e-08</td>\n",
              "      <td>7.424654e-16</td>\n",
              "      <td>7.116951e-21</td>\n",
              "      <td>1.094312e-22</td>\n",
              "      <td>0.000000e+00</td>\n",
              "      <td>1.000000</td>\n",
              "      <td>9.006229e-07</td>\n",
              "      <td>11</td>\n",
              "    </tr>\n",
              "    <tr>\n",
              "      <th>1</th>\n",
              "      <td>9.795522e-22</td>\n",
              "      <td>1.788099e-16</td>\n",
              "      <td>1.219056e-17</td>\n",
              "      <td>1.063301e-22</td>\n",
              "      <td>1.108040e-21</td>\n",
              "      <td>1.741644e-13</td>\n",
              "      <td>4.011657e-18</td>\n",
              "      <td>4.589963e-23</td>\n",
              "      <td>1.689308e-22</td>\n",
              "      <td>1.273456e-20</td>\n",
              "      <td>...</td>\n",
              "      <td>7.153509e-20</td>\n",
              "      <td>3.658574e-22</td>\n",
              "      <td>1.035718e-07</td>\n",
              "      <td>1.749470e-18</td>\n",
              "      <td>5.822015e-22</td>\n",
              "      <td>6.040347e-23</td>\n",
              "      <td>1.192093e-07</td>\n",
              "      <td>1.000000</td>\n",
              "      <td>1.794379e-06</td>\n",
              "      <td>11</td>\n",
              "    </tr>\n",
              "    <tr>\n",
              "      <th>2</th>\n",
              "      <td>6.481055e-10</td>\n",
              "      <td>6.672424e-11</td>\n",
              "      <td>4.942376e-12</td>\n",
              "      <td>2.966136e-12</td>\n",
              "      <td>1.893922e-16</td>\n",
              "      <td>4.839733e-12</td>\n",
              "      <td>1.044393e-07</td>\n",
              "      <td>5.782660e-14</td>\n",
              "      <td>1.166469e-12</td>\n",
              "      <td>1.592655e-14</td>\n",
              "      <td>...</td>\n",
              "      <td>1.496985e-12</td>\n",
              "      <td>1.496483e-11</td>\n",
              "      <td>8.792107e-11</td>\n",
              "      <td>2.497999e-12</td>\n",
              "      <td>1.205682e-12</td>\n",
              "      <td>1.883626e-12</td>\n",
              "      <td>1.350179e+01</td>\n",
              "      <td>0.998658</td>\n",
              "      <td>5.688133e-03</td>\n",
              "      <td>25</td>\n",
              "    </tr>\n",
              "    <tr>\n",
              "      <th>3</th>\n",
              "      <td>2.108354e-36</td>\n",
              "      <td>1.008609e-29</td>\n",
              "      <td>1.880650e-25</td>\n",
              "      <td>4.643068e-34</td>\n",
              "      <td>2.068530e-35</td>\n",
              "      <td>1.616960e-25</td>\n",
              "      <td>6.000442e-35</td>\n",
              "      <td>5.059211e-33</td>\n",
              "      <td>1.018005e-30</td>\n",
              "      <td>5.387592e-35</td>\n",
              "      <td>...</td>\n",
              "      <td>2.049799e-25</td>\n",
              "      <td>3.784844e-31</td>\n",
              "      <td>9.817873e-26</td>\n",
              "      <td>2.168864e-31</td>\n",
              "      <td>1.482684e-27</td>\n",
              "      <td>2.084331e-29</td>\n",
              "      <td>0.000000e+00</td>\n",
              "      <td>1.000000</td>\n",
              "      <td>2.019576e-12</td>\n",
              "      <td>31</td>\n",
              "    </tr>\n",
              "    <tr>\n",
              "      <th>4</th>\n",
              "      <td>1.056981e-09</td>\n",
              "      <td>3.374493e-15</td>\n",
              "      <td>3.715175e-14</td>\n",
              "      <td>5.897871e-14</td>\n",
              "      <td>3.859257e-19</td>\n",
              "      <td>5.511858e-10</td>\n",
              "      <td>8.877949e-11</td>\n",
              "      <td>1.884362e-13</td>\n",
              "      <td>9.442468e-16</td>\n",
              "      <td>8.045709e-13</td>\n",
              "      <td>...</td>\n",
              "      <td>5.580500e-14</td>\n",
              "      <td>5.212443e-14</td>\n",
              "      <td>1.229889e-12</td>\n",
              "      <td>3.494804e-06</td>\n",
              "      <td>2.014655e-16</td>\n",
              "      <td>1.545216e-13</td>\n",
              "      <td>2.069952e-03</td>\n",
              "      <td>0.995868</td>\n",
              "      <td>1.487354e-02</td>\n",
              "      <td>36</td>\n",
              "    </tr>\n",
              "  </tbody>\n",
              "</table>\n",
              "<p>5 rows × 48 columns</p>\n",
              "</div>\n",
              "    <div class=\"colab-df-buttons\">\n",
              "\n",
              "  <div class=\"colab-df-container\">\n",
              "    <button class=\"colab-df-convert\" onclick=\"convertToInteractive('df-5c951104-ac7c-4b72-afa5-f5b5c46fec9f')\"\n",
              "            title=\"Convert this dataframe to an interactive table.\"\n",
              "            style=\"display:none;\">\n",
              "\n",
              "  <svg xmlns=\"http://www.w3.org/2000/svg\" height=\"24px\" viewBox=\"0 -960 960 960\">\n",
              "    <path d=\"M120-120v-720h720v720H120Zm60-500h600v-160H180v160Zm220 220h160v-160H400v160Zm0 220h160v-160H400v160ZM180-400h160v-160H180v160Zm440 0h160v-160H620v160ZM180-180h160v-160H180v160Zm440 0h160v-160H620v160Z\"/>\n",
              "  </svg>\n",
              "    </button>\n",
              "\n",
              "  <style>\n",
              "    .colab-df-container {\n",
              "      display:flex;\n",
              "      gap: 12px;\n",
              "    }\n",
              "\n",
              "    .colab-df-convert {\n",
              "      background-color: #E8F0FE;\n",
              "      border: none;\n",
              "      border-radius: 50%;\n",
              "      cursor: pointer;\n",
              "      display: none;\n",
              "      fill: #1967D2;\n",
              "      height: 32px;\n",
              "      padding: 0 0 0 0;\n",
              "      width: 32px;\n",
              "    }\n",
              "\n",
              "    .colab-df-convert:hover {\n",
              "      background-color: #E2EBFA;\n",
              "      box-shadow: 0px 1px 2px rgba(60, 64, 67, 0.3), 0px 1px 3px 1px rgba(60, 64, 67, 0.15);\n",
              "      fill: #174EA6;\n",
              "    }\n",
              "\n",
              "    .colab-df-buttons div {\n",
              "      margin-bottom: 4px;\n",
              "    }\n",
              "\n",
              "    [theme=dark] .colab-df-convert {\n",
              "      background-color: #3B4455;\n",
              "      fill: #D2E3FC;\n",
              "    }\n",
              "\n",
              "    [theme=dark] .colab-df-convert:hover {\n",
              "      background-color: #434B5C;\n",
              "      box-shadow: 0px 1px 3px 1px rgba(0, 0, 0, 0.15);\n",
              "      filter: drop-shadow(0px 1px 2px rgba(0, 0, 0, 0.3));\n",
              "      fill: #FFFFFF;\n",
              "    }\n",
              "  </style>\n",
              "\n",
              "    <script>\n",
              "      const buttonEl =\n",
              "        document.querySelector('#df-5c951104-ac7c-4b72-afa5-f5b5c46fec9f button.colab-df-convert');\n",
              "      buttonEl.style.display =\n",
              "        google.colab.kernel.accessAllowed ? 'block' : 'none';\n",
              "\n",
              "      async function convertToInteractive(key) {\n",
              "        const element = document.querySelector('#df-5c951104-ac7c-4b72-afa5-f5b5c46fec9f');\n",
              "        const dataTable =\n",
              "          await google.colab.kernel.invokeFunction('convertToInteractive',\n",
              "                                                    [key], {});\n",
              "        if (!dataTable) return;\n",
              "\n",
              "        const docLinkHtml = 'Like what you see? Visit the ' +\n",
              "          '<a target=\"_blank\" href=https://colab.research.google.com/notebooks/data_table.ipynb>data table notebook</a>'\n",
              "          + ' to learn more about interactive tables.';\n",
              "        element.innerHTML = '';\n",
              "        dataTable['output_type'] = 'display_data';\n",
              "        await google.colab.output.renderOutput(dataTable, element);\n",
              "        const docLink = document.createElement('div');\n",
              "        docLink.innerHTML = docLinkHtml;\n",
              "        element.appendChild(docLink);\n",
              "      }\n",
              "    </script>\n",
              "  </div>\n",
              "\n",
              "\n",
              "    <div id=\"df-cdc3f9fd-ced1-4c24-a860-157e36fd79b2\">\n",
              "      <button class=\"colab-df-quickchart\" onclick=\"quickchart('df-cdc3f9fd-ced1-4c24-a860-157e36fd79b2')\"\n",
              "                title=\"Suggest charts\"\n",
              "                style=\"display:none;\">\n",
              "\n",
              "<svg xmlns=\"http://www.w3.org/2000/svg\" height=\"24px\"viewBox=\"0 0 24 24\"\n",
              "     width=\"24px\">\n",
              "    <g>\n",
              "        <path d=\"M19 3H5c-1.1 0-2 .9-2 2v14c0 1.1.9 2 2 2h14c1.1 0 2-.9 2-2V5c0-1.1-.9-2-2-2zM9 17H7v-7h2v7zm4 0h-2V7h2v10zm4 0h-2v-4h2v4z\"/>\n",
              "    </g>\n",
              "</svg>\n",
              "      </button>\n",
              "\n",
              "<style>\n",
              "  .colab-df-quickchart {\n",
              "      --bg-color: #E8F0FE;\n",
              "      --fill-color: #1967D2;\n",
              "      --hover-bg-color: #E2EBFA;\n",
              "      --hover-fill-color: #174EA6;\n",
              "      --disabled-fill-color: #AAA;\n",
              "      --disabled-bg-color: #DDD;\n",
              "  }\n",
              "\n",
              "  [theme=dark] .colab-df-quickchart {\n",
              "      --bg-color: #3B4455;\n",
              "      --fill-color: #D2E3FC;\n",
              "      --hover-bg-color: #434B5C;\n",
              "      --hover-fill-color: #FFFFFF;\n",
              "      --disabled-bg-color: #3B4455;\n",
              "      --disabled-fill-color: #666;\n",
              "  }\n",
              "\n",
              "  .colab-df-quickchart {\n",
              "    background-color: var(--bg-color);\n",
              "    border: none;\n",
              "    border-radius: 50%;\n",
              "    cursor: pointer;\n",
              "    display: none;\n",
              "    fill: var(--fill-color);\n",
              "    height: 32px;\n",
              "    padding: 0;\n",
              "    width: 32px;\n",
              "  }\n",
              "\n",
              "  .colab-df-quickchart:hover {\n",
              "    background-color: var(--hover-bg-color);\n",
              "    box-shadow: 0 1px 2px rgba(60, 64, 67, 0.3), 0 1px 3px 1px rgba(60, 64, 67, 0.15);\n",
              "    fill: var(--button-hover-fill-color);\n",
              "  }\n",
              "\n",
              "  .colab-df-quickchart-complete:disabled,\n",
              "  .colab-df-quickchart-complete:disabled:hover {\n",
              "    background-color: var(--disabled-bg-color);\n",
              "    fill: var(--disabled-fill-color);\n",
              "    box-shadow: none;\n",
              "  }\n",
              "\n",
              "  .colab-df-spinner {\n",
              "    border: 2px solid var(--fill-color);\n",
              "    border-color: transparent;\n",
              "    border-bottom-color: var(--fill-color);\n",
              "    animation:\n",
              "      spin 1s steps(1) infinite;\n",
              "  }\n",
              "\n",
              "  @keyframes spin {\n",
              "    0% {\n",
              "      border-color: transparent;\n",
              "      border-bottom-color: var(--fill-color);\n",
              "      border-left-color: var(--fill-color);\n",
              "    }\n",
              "    20% {\n",
              "      border-color: transparent;\n",
              "      border-left-color: var(--fill-color);\n",
              "      border-top-color: var(--fill-color);\n",
              "    }\n",
              "    30% {\n",
              "      border-color: transparent;\n",
              "      border-left-color: var(--fill-color);\n",
              "      border-top-color: var(--fill-color);\n",
              "      border-right-color: var(--fill-color);\n",
              "    }\n",
              "    40% {\n",
              "      border-color: transparent;\n",
              "      border-right-color: var(--fill-color);\n",
              "      border-top-color: var(--fill-color);\n",
              "    }\n",
              "    60% {\n",
              "      border-color: transparent;\n",
              "      border-right-color: var(--fill-color);\n",
              "    }\n",
              "    80% {\n",
              "      border-color: transparent;\n",
              "      border-right-color: var(--fill-color);\n",
              "      border-bottom-color: var(--fill-color);\n",
              "    }\n",
              "    90% {\n",
              "      border-color: transparent;\n",
              "      border-bottom-color: var(--fill-color);\n",
              "    }\n",
              "  }\n",
              "</style>\n",
              "\n",
              "      <script>\n",
              "        async function quickchart(key) {\n",
              "          const quickchartButtonEl =\n",
              "            document.querySelector('#' + key + ' button');\n",
              "          quickchartButtonEl.disabled = true;  // To prevent multiple clicks.\n",
              "          quickchartButtonEl.classList.add('colab-df-spinner');\n",
              "          try {\n",
              "            const charts = await google.colab.kernel.invokeFunction(\n",
              "                'suggestCharts', [key], {});\n",
              "          } catch (error) {\n",
              "            console.error('Error during call to suggestCharts:', error);\n",
              "          }\n",
              "          quickchartButtonEl.classList.remove('colab-df-spinner');\n",
              "          quickchartButtonEl.classList.add('colab-df-quickchart-complete');\n",
              "        }\n",
              "        (() => {\n",
              "          let quickchartButtonEl =\n",
              "            document.querySelector('#df-cdc3f9fd-ced1-4c24-a860-157e36fd79b2 button');\n",
              "          quickchartButtonEl.style.display =\n",
              "            google.colab.kernel.accessAllowed ? 'block' : 'none';\n",
              "        })();\n",
              "      </script>\n",
              "    </div>\n",
              "\n",
              "    </div>\n",
              "  </div>\n"
            ],
            "application/vnd.google.colaboratory.intrinsic+json": {
              "type": "dataframe",
              "variable_name": "df_target"
            }
          },
          "metadata": {},
          "execution_count": 31
        }
      ]
    },
    {
      "cell_type": "code",
      "source": [
        "attack_model = CatBoostClassifier()\n",
        "attack_model.load_model(CFG_ATTACK.attack_model_path)"
      ],
      "metadata": {
        "colab": {
          "base_uri": "https://localhost:8080/"
        },
        "id": "_h1AqZKaZpfr",
        "outputId": "6384e740-75ce-4084-8ae8-534424dccaef"
      },
      "execution_count": null,
      "outputs": [
        {
          "output_type": "execute_result",
          "data": {
            "text/plain": [
              "<catboost.core.CatBoostClassifier at 0x78357dc50b10>"
            ]
          },
          "metadata": {},
          "execution_count": 32
        }
      ]
    },
    {
      "cell_type": "code",
      "source": [
        "membership_scores = attack_model.predict_proba(df_target)[:, 1]"
      ],
      "metadata": {
        "id": "yj3oMV9yQ9NK"
      },
      "execution_count": null,
      "outputs": []
    },
    {
      "cell_type": "code",
      "source": [
        "len(membership_scores)"
      ],
      "metadata": {
        "colab": {
          "base_uri": "https://localhost:8080/"
        },
        "id": "32iT7AoMbDsC",
        "outputId": "0d38d56a-5e24-4ce0-da68-7a13b07c29dc"
      },
      "execution_count": null,
      "outputs": [
        {
          "output_type": "execute_result",
          "data": {
            "text/plain": [
              "20000"
            ]
          },
          "metadata": {},
          "execution_count": 34
        }
      ]
    },
    {
      "cell_type": "code",
      "source": [
        "count_less_than_0_5 = sum(1 for score in membership_scores if score < 0.5)\n",
        "print(f\"Number of scores less than 0.5: {count_less_than_0_5}\")\n"
      ],
      "metadata": {
        "colab": {
          "base_uri": "https://localhost:8080/"
        },
        "id": "WpdASG-2aOfJ",
        "outputId": "a5764c8b-4688-4f74-bac5-df73e448b34a"
      },
      "execution_count": null,
      "outputs": [
        {
          "output_type": "stream",
          "name": "stdout",
          "text": [
            "Number of scores less than 0.5: 6090\n"
          ]
        }
      ]
    },
    {
      "cell_type": "code",
      "source": [
        "df = pd.DataFrame(\n",
        "    {\n",
        "        \"ids\": data_priv.ids,\n",
        "        \"score\": membership_scores,\n",
        "    }\n",
        ")\n",
        "\n",
        "# Save to CSV (no index)\n",
        "df.to_csv(\"mia_submission.csv\", index=False)\n",
        "\n"
      ],
      "metadata": {
        "id": "fx4vjYV8Q_tu"
      },
      "execution_count": null,
      "outputs": []
    },
    {
      "cell_type": "code",
      "source": [
        "# Submit to the API\n",
        "API_ENDPOINT = \"http://34.122.51.94:9090/mia\"\n",
        "TOKEN = \"61729223\"  # Your provided token\n",
        "\n",
        "with open(\"mia_submission.csv\", \"rb\") as f:\n",
        "    response = requests.post(\n",
        "        API_ENDPOINT,\n",
        "        files={\"file\": f},\n",
        "        headers={\"token\": TOKEN}\n",
        "    )\n",
        "\n",
        "print(\"API Response:\", response.json())"
      ],
      "metadata": {
        "colab": {
          "base_uri": "https://localhost:8080/"
        },
        "id": "KtKdUimpZ8M5",
        "outputId": "c79c3eba-b211-42a4-8ed7-3d600149bd8d"
      },
      "execution_count": null,
      "outputs": [
        {
          "output_type": "stream",
          "name": "stdout",
          "text": [
            "API Response: {'TPR@FPR=0.05': 0.144, 'AUC': 0.6550277222222222}\n"
          ]
        }
      ]
    },
    {
      "cell_type": "code",
      "source": [
        "print(\"LOL\")"
      ],
      "metadata": {
        "id": "cmWMfXgKbG2j",
        "colab": {
          "base_uri": "https://localhost:8080/"
        },
        "outputId": "247a265e-ad74-452f-f993-40332433c5aa"
      },
      "execution_count": null,
      "outputs": [
        {
          "output_type": "stream",
          "name": "stdout",
          "text": [
            "LOL\n"
          ]
        }
      ]
    }
  ]
}